{
 "cells": [
  {
   "cell_type": "code",
   "execution_count": 1,
   "id": "613b93a8",
   "metadata": {},
   "outputs": [
    {
     "name": "stdout",
     "output_type": "stream",
     "text": [
      "Requirement already satisfied: selenium in c:\\users\\dinesh mutha\\anaconda3\\lib\\site-packages (4.3.0)\n",
      "Requirement already satisfied: urllib3[secure,socks]~=1.26 in c:\\users\\dinesh mutha\\anaconda3\\lib\\site-packages (from selenium) (1.26.7)\n",
      "Requirement already satisfied: trio-websocket~=0.9 in c:\\users\\dinesh mutha\\anaconda3\\lib\\site-packages (from selenium) (0.9.2)\n",
      "Requirement already satisfied: trio~=0.17 in c:\\users\\dinesh mutha\\anaconda3\\lib\\site-packages (from selenium) (0.21.0)\n",
      "Requirement already satisfied: sortedcontainers in c:\\users\\dinesh mutha\\anaconda3\\lib\\site-packages (from trio~=0.17->selenium) (2.4.0)\n",
      "Requirement already satisfied: cffi>=1.14 in c:\\users\\dinesh mutha\\anaconda3\\lib\\site-packages (from trio~=0.17->selenium) (1.14.6)\n",
      "Requirement already satisfied: idna in c:\\users\\dinesh mutha\\anaconda3\\lib\\site-packages (from trio~=0.17->selenium) (3.2)\n",
      "Requirement already satisfied: outcome in c:\\users\\dinesh mutha\\anaconda3\\lib\\site-packages (from trio~=0.17->selenium) (1.2.0)\n",
      "Requirement already satisfied: sniffio in c:\\users\\dinesh mutha\\anaconda3\\lib\\site-packages (from trio~=0.17->selenium) (1.2.0)\n",
      "Requirement already satisfied: async-generator>=1.9 in c:\\users\\dinesh mutha\\anaconda3\\lib\\site-packages (from trio~=0.17->selenium) (1.10)\n",
      "Requirement already satisfied: attrs>=19.2.0 in c:\\users\\dinesh mutha\\anaconda3\\lib\\site-packages (from trio~=0.17->selenium) (21.2.0)\n",
      "Requirement already satisfied: pycparser in c:\\users\\dinesh mutha\\anaconda3\\lib\\site-packages (from cffi>=1.14->trio~=0.17->selenium) (2.20)\n",
      "Requirement already satisfied: wsproto>=0.14 in c:\\users\\dinesh mutha\\anaconda3\\lib\\site-packages (from trio-websocket~=0.9->selenium) (1.1.0)\n",
      "Requirement already satisfied: PySocks!=1.5.7,<2.0,>=1.5.6 in c:\\users\\dinesh mutha\\anaconda3\\lib\\site-packages (from urllib3[secure,socks]~=1.26->selenium) (1.7.1)\n",
      "Requirement already satisfied: pyOpenSSL>=0.14 in c:\\users\\dinesh mutha\\anaconda3\\lib\\site-packages (from urllib3[secure,socks]~=1.26->selenium) (21.0.0)\n",
      "Requirement already satisfied: cryptography>=1.3.4 in c:\\users\\dinesh mutha\\anaconda3\\lib\\site-packages (from urllib3[secure,socks]~=1.26->selenium) (3.4.8)\n",
      "Requirement already satisfied: certifi in c:\\users\\dinesh mutha\\anaconda3\\lib\\site-packages (from urllib3[secure,socks]~=1.26->selenium) (2021.10.8)\n",
      "Requirement already satisfied: six>=1.5.2 in c:\\users\\dinesh mutha\\anaconda3\\lib\\site-packages (from pyOpenSSL>=0.14->urllib3[secure,socks]~=1.26->selenium) (1.16.0)\n",
      "Requirement already satisfied: h11<1,>=0.9.0 in c:\\users\\dinesh mutha\\anaconda3\\lib\\site-packages (from wsproto>=0.14->trio-websocket~=0.9->selenium) (0.13.0)\n"
     ]
    }
   ],
   "source": [
    "!pip install selenium"
   ]
  },
  {
   "cell_type": "code",
   "execution_count": 4,
   "id": "01347419",
   "metadata": {},
   "outputs": [],
   "source": [
    "# import libraries\n",
    "\n",
    "import selenium\n",
    "import pandas as pd\n",
    "from selenium import webdriver\n",
    "from selenium.webdriver.common.by import By\n",
    "import time"
   ]
  },
  {
   "cell_type": "code",
   "execution_count": 3,
   "id": "46ebf0f3",
   "metadata": {},
   "outputs": [
    {
     "name": "stderr",
     "output_type": "stream",
     "text": [
      "C:\\Users\\DINESH~1\\AppData\\Local\\Temp/ipykernel_26688/2593990852.py:3: DeprecationWarning: executable_path has been deprecated, please pass in a Service object\n",
      "  driver = webdriver.Chrome('chromedriver.exe')\n"
     ]
    }
   ],
   "source": [
    "# web driver to be used, needs to be connected first\n",
    "\n",
    "driver = webdriver.Chrome('chromedriver.exe')"
   ]
  },
  {
   "cell_type": "code",
   "execution_count": 4,
   "id": "bb822b4f",
   "metadata": {},
   "outputs": [],
   "source": [
    "url = 'https://www.naukri.com/'\n",
    "driver.get(url)"
   ]
  },
  {
   "cell_type": "code",
   "execution_count": 5,
   "id": "46fc9a12",
   "metadata": {},
   "outputs": [],
   "source": [
    "# input designation\n",
    "search_field_designation=driver.find_element(By.CLASS_NAME, \"suggestor-input \")\n",
    "search_field_designation.send_keys(\"Data Analyst\")"
   ]
  },
  {
   "cell_type": "code",
   "execution_count": 6,
   "id": "5dd95906",
   "metadata": {
    "scrolled": true
   },
   "outputs": [],
   "source": [
    "# input job location\n",
    "search_field_location = driver.find_element(By.XPATH,'/html/body/div[1]/div[2]/div[3]/div/div/div[5]/div/div/div/input')"
   ]
  },
  {
   "cell_type": "code",
   "execution_count": 7,
   "id": "011f7533",
   "metadata": {
    "scrolled": true
   },
   "outputs": [],
   "source": [
    "# send location key\n",
    "search_field_location.send_keys('Bangalore')"
   ]
  },
  {
   "cell_type": "code",
   "execution_count": 8,
   "id": "cf923d4d",
   "metadata": {
    "scrolled": true
   },
   "outputs": [],
   "source": [
    "# using  xpath function for scraping \n",
    "search = driver.find_element(By.XPATH,'/html/body/div[1]/div[2]/div[3]/div/div/div[6]')"
   ]
  },
  {
   "cell_type": "code",
   "execution_count": 9,
   "id": "d6bfc671",
   "metadata": {},
   "outputs": [],
   "source": [
    "search.click()"
   ]
  },
  {
   "cell_type": "code",
   "execution_count": 10,
   "id": "09303cff",
   "metadata": {},
   "outputs": [],
   "source": [
    "# extract data from job titles\n",
    "titles_tags=driver.find_elements(By.XPATH, \"//a[@class='title fw500 ellipsis']\")"
   ]
  },
  {
   "cell_type": "code",
   "execution_count": 11,
   "id": "6a9bbf18",
   "metadata": {},
   "outputs": [
    {
     "data": {
      "text/plain": [
       "['Sr.Business Data Analyst',\n",
       " 'Sr Data Analyst',\n",
       " 'Senior Data Analysis Analyst',\n",
       " 'Job opportunity For Data Analyst at Trellance - India',\n",
       " 'Data Analyst',\n",
       " 'Senior Data Analyst',\n",
       " 'Associate Data Analyst',\n",
       " 'Associate Data Analyst',\n",
       " 'Data Analyst/Senior Data Analyst',\n",
       " 'Financial Data Analyst']"
      ]
     },
     "execution_count": 11,
     "metadata": {},
     "output_type": "execute_result"
    }
   ],
   "source": [
    "job_titles =[]\n",
    "for i in titles_tags[ : 10]:\n",
    "    job_titles.append(i.text)\n",
    "job_titles"
   ]
  },
  {
   "cell_type": "code",
   "execution_count": 12,
   "id": "9462c5bd",
   "metadata": {},
   "outputs": [],
   "source": [
    "companies_tags = driver.find_elements(By.XPATH, \"//a[@class='subTitle ellipsis fleft']\")"
   ]
  },
  {
   "cell_type": "code",
   "execution_count": 13,
   "id": "5a041b26",
   "metadata": {},
   "outputs": [
    {
     "data": {
      "text/plain": [
       "['Collabera',\n",
       " 'Thomson Reuters',\n",
       " 'Capco',\n",
       " 'CURise Analytics Pvt. Ltd.',\n",
       " 'Thomson Reuters',\n",
       " 'KrazyBee',\n",
       " 'Optum',\n",
       " 'Optum',\n",
       " 'Meesho',\n",
       " 'Nuance India']"
      ]
     },
     "execution_count": 13,
     "metadata": {},
     "output_type": "execute_result"
    }
   ],
   "source": [
    "company_names=[]\n",
    "for i in companies_tags[0 : 10]:\n",
    "    company_names.append(i.text)\n",
    "company_names"
   ]
  },
  {
   "cell_type": "code",
   "execution_count": 14,
   "id": "8908e729",
   "metadata": {},
   "outputs": [],
   "source": [
    "experience_tags = driver.find_elements(By.XPATH, \"//li[@class='fleft grey-text br2 placeHolderLi experience']\")"
   ]
  },
  {
   "cell_type": "code",
   "execution_count": 15,
   "id": "9708554a",
   "metadata": {},
   "outputs": [
    {
     "data": {
      "text/plain": [
       "['6-11 Yrs',\n",
       " '5-8 Yrs',\n",
       " '7-12 Yrs',\n",
       " '0-2 Yrs',\n",
       " '2-3 Yrs',\n",
       " '3-6 Yrs',\n",
       " '2-7 Yrs',\n",
       " '1-4 Yrs',\n",
       " '3-6 Yrs',\n",
       " '3-8 Yrs']"
      ]
     },
     "execution_count": 15,
     "metadata": {},
     "output_type": "execute_result"
    }
   ],
   "source": [
    "experience_list=[]\n",
    "for i in experience_tags[0 : 10]:\n",
    "    experience_list.append(i.text)\n",
    "experience_list"
   ]
  },
  {
   "cell_type": "code",
   "execution_count": 16,
   "id": "bf3de486",
   "metadata": {},
   "outputs": [],
   "source": [
    "location_tags = driver.find_elements(By.XPATH, \"//li[@class='fleft grey-text br2 placeHolderLi location']//span\")"
   ]
  },
  {
   "cell_type": "code",
   "execution_count": 17,
   "id": "9fa5c2a5",
   "metadata": {},
   "outputs": [
    {
     "data": {
      "text/plain": [
       "['Bangalore/Bengaluru, karnataka',\n",
       " '(WFH during Covid)',\n",
       " 'Bangalore/Bengaluru',\n",
       " 'Bangalore/Bengaluru, Pune, Chennai',\n",
       " 'Bangalore/Bengaluru, Ahmedabad',\n",
       " 'Bangalore/Bengaluru',\n",
       " 'Bangalore/Bengaluru(Old Madras Road)',\n",
       " 'Bangalore/Bengaluru',\n",
       " 'Bangalore/Bengaluru',\n",
       " 'Bangalore/Bengaluru']"
      ]
     },
     "execution_count": 17,
     "metadata": {},
     "output_type": "execute_result"
    }
   ],
   "source": [
    "location_list=[]\n",
    "for i in location_tags[ : 10]:\n",
    "    location_list.append(i.text)\n",
    "location_list"
   ]
  },
  {
   "cell_type": "code",
   "execution_count": 18,
   "id": "5332a83b",
   "metadata": {},
   "outputs": [
    {
     "name": "stdout",
     "output_type": "stream",
     "text": [
      "10 10 10 10\n"
     ]
    }
   ],
   "source": [
    "print(len(job_titles), len(company_names), len(experience_list), len(location_list))"
   ]
  },
  {
   "cell_type": "code",
   "execution_count": 19,
   "id": "598718e9",
   "metadata": {},
   "outputs": [
    {
     "data": {
      "text/html": [
       "<div>\n",
       "<style scoped>\n",
       "    .dataframe tbody tr th:only-of-type {\n",
       "        vertical-align: middle;\n",
       "    }\n",
       "\n",
       "    .dataframe tbody tr th {\n",
       "        vertical-align: top;\n",
       "    }\n",
       "\n",
       "    .dataframe thead th {\n",
       "        text-align: right;\n",
       "    }\n",
       "</style>\n",
       "<table border=\"1\" class=\"dataframe\">\n",
       "  <thead>\n",
       "    <tr style=\"text-align: right;\">\n",
       "      <th></th>\n",
       "      <th>title</th>\n",
       "      <th>company</th>\n",
       "      <th>location</th>\n",
       "      <th>experience</th>\n",
       "    </tr>\n",
       "  </thead>\n",
       "  <tbody>\n",
       "    <tr>\n",
       "      <th>0</th>\n",
       "      <td>Sr.Business Data Analyst</td>\n",
       "      <td>Collabera</td>\n",
       "      <td>Bangalore/Bengaluru, karnataka</td>\n",
       "      <td>6-11 Yrs</td>\n",
       "    </tr>\n",
       "    <tr>\n",
       "      <th>1</th>\n",
       "      <td>Sr Data Analyst</td>\n",
       "      <td>Thomson Reuters</td>\n",
       "      <td>(WFH during Covid)</td>\n",
       "      <td>5-8 Yrs</td>\n",
       "    </tr>\n",
       "    <tr>\n",
       "      <th>2</th>\n",
       "      <td>Senior Data Analysis Analyst</td>\n",
       "      <td>Capco</td>\n",
       "      <td>Bangalore/Bengaluru</td>\n",
       "      <td>7-12 Yrs</td>\n",
       "    </tr>\n",
       "    <tr>\n",
       "      <th>3</th>\n",
       "      <td>Job opportunity For Data Analyst at Trellance ...</td>\n",
       "      <td>CURise Analytics Pvt. Ltd.</td>\n",
       "      <td>Bangalore/Bengaluru, Pune, Chennai</td>\n",
       "      <td>0-2 Yrs</td>\n",
       "    </tr>\n",
       "    <tr>\n",
       "      <th>4</th>\n",
       "      <td>Data Analyst</td>\n",
       "      <td>Thomson Reuters</td>\n",
       "      <td>Bangalore/Bengaluru, Ahmedabad</td>\n",
       "      <td>2-3 Yrs</td>\n",
       "    </tr>\n",
       "    <tr>\n",
       "      <th>5</th>\n",
       "      <td>Senior Data Analyst</td>\n",
       "      <td>KrazyBee</td>\n",
       "      <td>Bangalore/Bengaluru</td>\n",
       "      <td>3-6 Yrs</td>\n",
       "    </tr>\n",
       "    <tr>\n",
       "      <th>6</th>\n",
       "      <td>Associate Data Analyst</td>\n",
       "      <td>Optum</td>\n",
       "      <td>Bangalore/Bengaluru(Old Madras Road)</td>\n",
       "      <td>2-7 Yrs</td>\n",
       "    </tr>\n",
       "    <tr>\n",
       "      <th>7</th>\n",
       "      <td>Associate Data Analyst</td>\n",
       "      <td>Optum</td>\n",
       "      <td>Bangalore/Bengaluru</td>\n",
       "      <td>1-4 Yrs</td>\n",
       "    </tr>\n",
       "    <tr>\n",
       "      <th>8</th>\n",
       "      <td>Data Analyst/Senior Data Analyst</td>\n",
       "      <td>Meesho</td>\n",
       "      <td>Bangalore/Bengaluru</td>\n",
       "      <td>3-6 Yrs</td>\n",
       "    </tr>\n",
       "    <tr>\n",
       "      <th>9</th>\n",
       "      <td>Financial Data Analyst</td>\n",
       "      <td>Nuance India</td>\n",
       "      <td>Bangalore/Bengaluru</td>\n",
       "      <td>3-8 Yrs</td>\n",
       "    </tr>\n",
       "  </tbody>\n",
       "</table>\n",
       "</div>"
      ],
      "text/plain": [
       "                                               title  \\\n",
       "0                           Sr.Business Data Analyst   \n",
       "1                                    Sr Data Analyst   \n",
       "2                       Senior Data Analysis Analyst   \n",
       "3  Job opportunity For Data Analyst at Trellance ...   \n",
       "4                                       Data Analyst   \n",
       "5                                Senior Data Analyst   \n",
       "6                             Associate Data Analyst   \n",
       "7                             Associate Data Analyst   \n",
       "8                   Data Analyst/Senior Data Analyst   \n",
       "9                             Financial Data Analyst   \n",
       "\n",
       "                      company                              location experience  \n",
       "0                   Collabera        Bangalore/Bengaluru, karnataka   6-11 Yrs  \n",
       "1             Thomson Reuters                    (WFH during Covid)    5-8 Yrs  \n",
       "2                       Capco                   Bangalore/Bengaluru   7-12 Yrs  \n",
       "3  CURise Analytics Pvt. Ltd.    Bangalore/Bengaluru, Pune, Chennai    0-2 Yrs  \n",
       "4             Thomson Reuters        Bangalore/Bengaluru, Ahmedabad    2-3 Yrs  \n",
       "5                    KrazyBee                   Bangalore/Bengaluru    3-6 Yrs  \n",
       "6                       Optum  Bangalore/Bengaluru(Old Madras Road)    2-7 Yrs  \n",
       "7                       Optum                   Bangalore/Bengaluru    1-4 Yrs  \n",
       "8                      Meesho                   Bangalore/Bengaluru    3-6 Yrs  \n",
       "9                Nuance India                   Bangalore/Bengaluru    3-8 Yrs  "
      ]
     },
     "execution_count": 19,
     "metadata": {},
     "output_type": "execute_result"
    }
   ],
   "source": [
    "import pandas as pd\n",
    "\n",
    "jobs = pd.DataFrame({})\n",
    "jobs['title'] = job_titles\n",
    "jobs['company'] = company_names\n",
    "jobs['location'] = location_list\n",
    "jobs['experience'] = experience_list\n",
    "\n",
    "jobs"
   ]
  },
  {
   "cell_type": "markdown",
   "id": "408e98b9",
   "metadata": {},
   "source": [
    "## data scientist jobs."
   ]
  },
  {
   "cell_type": "code",
   "execution_count": null,
   "id": "5bda971c",
   "metadata": {},
   "outputs": [],
   "source": [
    "# import libraries\n",
    "\n",
    "import selenium\n",
    "import pandas as pd\n",
    "from selenium import webdriver\n",
    "from selenium.webdriver.common.by import By\n",
    "import time"
   ]
  },
  {
   "cell_type": "code",
   "execution_count": 31,
   "id": "42b6c40c",
   "metadata": {},
   "outputs": [
    {
     "name": "stderr",
     "output_type": "stream",
     "text": [
      "C:\\Users\\DINESH~1\\AppData\\Local\\Temp/ipykernel_26688/2593990852.py:3: DeprecationWarning: executable_path has been deprecated, please pass in a Service object\n",
      "  driver = webdriver.Chrome('chromedriver.exe')\n"
     ]
    }
   ],
   "source": [
    "# web driver to be used, needs to be connected first\n",
    "\n",
    "driver = webdriver.Chrome('chromedriver.exe')"
   ]
  },
  {
   "cell_type": "code",
   "execution_count": 32,
   "id": "c35381d4",
   "metadata": {},
   "outputs": [],
   "source": [
    "url = 'https://www.naukri.com/'\n",
    "driver.get(url)"
   ]
  },
  {
   "cell_type": "code",
   "execution_count": 33,
   "id": "693f2233",
   "metadata": {},
   "outputs": [],
   "source": [
    "#send job designation\n",
    "search_designation=driver.find_element(By.CLASS_NAME, \"suggestor-input \")\n",
    "search_designation.send_keys(\"Data Scientist\")"
   ]
  },
  {
   "cell_type": "code",
   "execution_count": 34,
   "id": "7e6c9d85",
   "metadata": {},
   "outputs": [],
   "source": [
    "#search location\n",
    "search_field_location = driver.find_element(By.XPATH, \"/html/body/div/div[2]/div[3]/div/div/div[5]/div/div/div/input\")\n",
    "search_field_location.send_keys(\"Bangalore\")"
   ]
  },
  {
   "cell_type": "code",
   "execution_count": 35,
   "id": "8a8f4344",
   "metadata": {},
   "outputs": [],
   "source": [
    "#click with xpath\n",
    "search_button = driver.find_element(By.XPATH , '/html/body/div[1]/div[2]/div[3]/div/div/div[6]')\n",
    "search_button.click()"
   ]
  },
  {
   "cell_type": "code",
   "execution_count": 36,
   "id": "f349baf2",
   "metadata": {},
   "outputs": [],
   "source": [
    "job_titles = []\n",
    "company_names = []\n",
    "loc = []"
   ]
  },
  {
   "cell_type": "code",
   "execution_count": 37,
   "id": "56ac9879",
   "metadata": {},
   "outputs": [],
   "source": [
    "# extract tags having job title\n",
    "title_tags=driver.find_elements(By.XPATH, \"//a[@class='title fw500 ellipsis']\")"
   ]
  },
  {
   "cell_type": "code",
   "execution_count": 38,
   "id": "1e7be3c6",
   "metadata": {},
   "outputs": [
    {
     "data": {
      "text/plain": [
       "['Data Scientist/ Senior Data Scientist',\n",
       " 'Urgent Job Opening For AI Practitioner - Data Science at Wipro Holmes',\n",
       " 'Dataiku Consultant',\n",
       " 'Data Scientist',\n",
       " 'Data & Analytics Tech - Informatica Cloud- Senior Associate',\n",
       " 'Data Scientist: Advanced Analytics',\n",
       " 'Research Scientist',\n",
       " 'Data Science - Senior Data Scientist - Analytics',\n",
       " 'Principal - Data Scientist',\n",
       " 'Research and Development -AI/ML -(PhD )']"
      ]
     },
     "execution_count": 38,
     "metadata": {},
     "output_type": "execute_result"
    }
   ],
   "source": [
    "for i in title_tags[ : 10]:\n",
    "    titles=i.text\n",
    "    job_titles.append(titles)\n",
    "job_titles"
   ]
  },
  {
   "cell_type": "code",
   "execution_count": 39,
   "id": "8c9251ec",
   "metadata": {},
   "outputs": [],
   "source": [
    "# extract location tags\n",
    "locations_tag = driver.find_elements(By.XPATH, \"//li[@class='fleft grey-text br2 placeHolderLi location']/span[1]\")"
   ]
  },
  {
   "cell_type": "code",
   "execution_count": 40,
   "id": "025ae659",
   "metadata": {},
   "outputs": [],
   "source": [
    "# location is in location_tags \n",
    "for i in locations_tag[ : 10]:\n",
    "    locations = i.text\n",
    "    loc.append(locations)\n",
    "loc = loc [ : 10]"
   ]
  },
  {
   "cell_type": "code",
   "execution_count": 41,
   "id": "67e4b3ff",
   "metadata": {},
   "outputs": [],
   "source": [
    "# extract company names tags\n",
    "companies_tags=driver.find_elements(By.XPATH, \"//a[@class='subTitle ellipsis fleft']\")"
   ]
  },
  {
   "cell_type": "code",
   "execution_count": 42,
   "id": "9ddd5270",
   "metadata": {
    "scrolled": true
   },
   "outputs": [],
   "source": [
    "# company name in the tag extracted above\n",
    "for i in companies_tags[ : 10]:\n",
    "    company_name=i.text\n",
    "    company_names.append(company_name)\n",
    "company_names = company_names [ : 10]"
   ]
  },
  {
   "cell_type": "code",
   "execution_count": 43,
   "id": "e08e00d3",
   "metadata": {},
   "outputs": [
    {
     "name": "stdout",
     "output_type": "stream",
     "text": [
      "10 10 10\n"
     ]
    }
   ],
   "source": [
    "print(len(job_titles), len(company_names), len(loc))"
   ]
  },
  {
   "cell_type": "code",
   "execution_count": 44,
   "id": "f215d035",
   "metadata": {},
   "outputs": [
    {
     "data": {
      "text/html": [
       "<div>\n",
       "<style scoped>\n",
       "    .dataframe tbody tr th:only-of-type {\n",
       "        vertical-align: middle;\n",
       "    }\n",
       "\n",
       "    .dataframe tbody tr th {\n",
       "        vertical-align: top;\n",
       "    }\n",
       "\n",
       "    .dataframe thead th {\n",
       "        text-align: right;\n",
       "    }\n",
       "</style>\n",
       "<table border=\"1\" class=\"dataframe\">\n",
       "  <thead>\n",
       "    <tr style=\"text-align: right;\">\n",
       "      <th></th>\n",
       "      <th>Job Title</th>\n",
       "      <th>Job Location</th>\n",
       "      <th>Company Name</th>\n",
       "    </tr>\n",
       "  </thead>\n",
       "  <tbody>\n",
       "    <tr>\n",
       "      <th>0</th>\n",
       "      <td>Data Scientist/ Senior Data Scientist</td>\n",
       "      <td>Bangalore/Bengaluru, Noida, Hyderabad/Secunder...</td>\n",
       "      <td>Fractal Analytics</td>\n",
       "    </tr>\n",
       "    <tr>\n",
       "      <th>1</th>\n",
       "      <td>Urgent Job Opening For AI Practitioner - Data ...</td>\n",
       "      <td>Bangalore/Bengaluru, Noida, Hyderabad/Secunder...</td>\n",
       "      <td>Wipro</td>\n",
       "    </tr>\n",
       "    <tr>\n",
       "      <th>2</th>\n",
       "      <td>Dataiku Consultant</td>\n",
       "      <td>Bangalore/Bengaluru, Noida, Hyderabad/Secunder...</td>\n",
       "      <td>Wipro</td>\n",
       "    </tr>\n",
       "    <tr>\n",
       "      <th>3</th>\n",
       "      <td>Data Scientist</td>\n",
       "      <td>Bangalore/Bengaluru, Noida, Hyderabad/Secunder...</td>\n",
       "      <td>Applied Materials</td>\n",
       "    </tr>\n",
       "    <tr>\n",
       "      <th>4</th>\n",
       "      <td>Data &amp; Analytics Tech - Informatica Cloud- Sen...</td>\n",
       "      <td>Bangalore/Bengaluru, Noida, Hyderabad/Secunder...</td>\n",
       "      <td>PwC</td>\n",
       "    </tr>\n",
       "    <tr>\n",
       "      <th>5</th>\n",
       "      <td>Data Scientist: Advanced Analytics</td>\n",
       "      <td>Bangalore/Bengaluru, Noida, Hyderabad/Secunder...</td>\n",
       "      <td>IBM</td>\n",
       "    </tr>\n",
       "    <tr>\n",
       "      <th>6</th>\n",
       "      <td>Research Scientist</td>\n",
       "      <td>Bangalore/Bengaluru, Noida, Hyderabad/Secunder...</td>\n",
       "      <td>IBM</td>\n",
       "    </tr>\n",
       "    <tr>\n",
       "      <th>7</th>\n",
       "      <td>Data Science - Senior Data Scientist - Analytics</td>\n",
       "      <td>Bangalore/Bengaluru, Noida, Hyderabad/Secunder...</td>\n",
       "      <td>Paytm</td>\n",
       "    </tr>\n",
       "    <tr>\n",
       "      <th>8</th>\n",
       "      <td>Principal - Data Scientist</td>\n",
       "      <td>Bangalore/Bengaluru, Noida, Hyderabad/Secunder...</td>\n",
       "      <td>Schneider Electric</td>\n",
       "    </tr>\n",
       "    <tr>\n",
       "      <th>9</th>\n",
       "      <td>Research and Development -AI/ML -(PhD )</td>\n",
       "      <td>Bangalore/Bengaluru, Noida, Hyderabad/Secunder...</td>\n",
       "      <td>EXL</td>\n",
       "    </tr>\n",
       "  </tbody>\n",
       "</table>\n",
       "</div>"
      ],
      "text/plain": [
       "                                           Job Title  \\\n",
       "0              Data Scientist/ Senior Data Scientist   \n",
       "1  Urgent Job Opening For AI Practitioner - Data ...   \n",
       "2                                 Dataiku Consultant   \n",
       "3                                     Data Scientist   \n",
       "4  Data & Analytics Tech - Informatica Cloud- Sen...   \n",
       "5                 Data Scientist: Advanced Analytics   \n",
       "6                                 Research Scientist   \n",
       "7   Data Science - Senior Data Scientist - Analytics   \n",
       "8                         Principal - Data Scientist   \n",
       "9            Research and Development -AI/ML -(PhD )   \n",
       "\n",
       "                                        Job Location        Company Name  \n",
       "0  Bangalore/Bengaluru, Noida, Hyderabad/Secunder...   Fractal Analytics  \n",
       "1  Bangalore/Bengaluru, Noida, Hyderabad/Secunder...               Wipro  \n",
       "2  Bangalore/Bengaluru, Noida, Hyderabad/Secunder...               Wipro  \n",
       "3  Bangalore/Bengaluru, Noida, Hyderabad/Secunder...   Applied Materials  \n",
       "4  Bangalore/Bengaluru, Noida, Hyderabad/Secunder...                 PwC  \n",
       "5  Bangalore/Bengaluru, Noida, Hyderabad/Secunder...                 IBM  \n",
       "6  Bangalore/Bengaluru, Noida, Hyderabad/Secunder...                 IBM  \n",
       "7  Bangalore/Bengaluru, Noida, Hyderabad/Secunder...               Paytm  \n",
       "8  Bangalore/Bengaluru, Noida, Hyderabad/Secunder...  Schneider Electric  \n",
       "9  Bangalore/Bengaluru, Noida, Hyderabad/Secunder...                 EXL  "
      ]
     },
     "execution_count": 44,
     "metadata": {},
     "output_type": "execute_result"
    }
   ],
   "source": [
    "pd.set_option(\"display.max_rows\", None, \"display.max_columns\", None)\n",
    "df2 = pd.DataFrame({'Job Title':job_titles, 'Job Location':locations, 'Company Name':company_names})\n",
    "df2"
   ]
  },
  {
   "cell_type": "code",
   "execution_count": null,
   "id": "e343e0f6",
   "metadata": {},
   "outputs": [],
   "source": []
  },
  {
   "cell_type": "markdown",
   "id": "cc604f6d",
   "metadata": {},
   "source": [
    "##  data scientist first 10 jobs\n",
    "You have to use the location and salary filter.\n",
    "You have to scrape data for “Data Scientist” designation for first 10 job results.\n",
    "You have to scrape the job-title, job-location, company name, experience required. \n",
    "The location filter to be used is “Delhi/NCR”. The salary filter to be used is “3-6” lakhs"
   ]
  },
  {
   "cell_type": "code",
   "execution_count": null,
   "id": "cb34b553",
   "metadata": {},
   "outputs": [],
   "source": [
    "# import libraries\n",
    "\n",
    "import selenium\n",
    "import pandas as pd\n",
    "from selenium import webdriver\n",
    "from selenium.webdriver.common.by import By\n",
    "import time"
   ]
  },
  {
   "cell_type": "code",
   "execution_count": 45,
   "id": "677d4564",
   "metadata": {},
   "outputs": [
    {
     "name": "stderr",
     "output_type": "stream",
     "text": [
      "C:\\Users\\DINESH~1\\AppData\\Local\\Temp/ipykernel_26688/2593990852.py:3: DeprecationWarning: executable_path has been deprecated, please pass in a Service object\n",
      "  driver = webdriver.Chrome('chromedriver.exe')\n"
     ]
    }
   ],
   "source": [
    "# web driver to be used, needs to be connected first\n",
    "\n",
    "driver = webdriver.Chrome('chromedriver.exe')"
   ]
  },
  {
   "cell_type": "code",
   "execution_count": 46,
   "id": "4a8ba398",
   "metadata": {},
   "outputs": [],
   "source": [
    "url = 'https://www.naukri.com/'\n",
    "driver.get(url)"
   ]
  },
  {
   "cell_type": "code",
   "execution_count": 47,
   "id": "1268c84e",
   "metadata": {},
   "outputs": [],
   "source": [
    "#send job designation\n",
    "search_designation=driver.find_element(By.CLASS_NAME, \"suggestor-input \")\n",
    "search_designation.send_keys(\"Data Scientist\")"
   ]
  },
  {
   "cell_type": "code",
   "execution_count": 48,
   "id": "33e633c8",
   "metadata": {},
   "outputs": [],
   "source": [
    "#search location\n",
    "search_field_location = driver.find_element(By.XPATH, \"/html/body/div/div[2]/div[3]/div/div/div[5]/div/div/div/input\")\n",
    "search_field_location.send_keys(\"Delhi/NCR\")"
   ]
  },
  {
   "cell_type": "code",
   "execution_count": 49,
   "id": "beaf5ed9",
   "metadata": {},
   "outputs": [],
   "source": [
    "#click with xpath\n",
    "search_button = driver.find_element(By.XPATH , '/html/body/div[1]/div[2]/div[3]/div/div/div[6]')\n",
    "search_button.click()"
   ]
  },
  {
   "cell_type": "code",
   "execution_count": 55,
   "id": "694ddf86",
   "metadata": {},
   "outputs": [],
   "source": [
    "job_titles = []\n",
    "company_names = []\n",
    "loc1 = []"
   ]
  },
  {
   "cell_type": "code",
   "execution_count": 56,
   "id": "785711a2",
   "metadata": {},
   "outputs": [],
   "source": [
    "# extract tags having job title\n",
    "title_tags=driver.find_elements(By.XPATH, \"//a[@class='title fw500 ellipsis']\")"
   ]
  },
  {
   "cell_type": "code",
   "execution_count": 57,
   "id": "81351f3e",
   "metadata": {
    "scrolled": true
   },
   "outputs": [
    {
     "data": {
      "text/plain": [
       "['Data Scientist/ Senior Data Scientist',\n",
       " 'Urgent Job Opening For AI Practitioner - Data Science at Wipro Holmes',\n",
       " 'Data Science - Senior Data Scientist - Analytics',\n",
       " 'Research and Development -AI/ML -(PhD )',\n",
       " 'Opportunity For Data Scientist - Female Candidates ONLY',\n",
       " 'Senior Data Science Engineer',\n",
       " 'Data Science - Engineering Manager',\n",
       " 'DigitalBCG GAMMA Data Scientist',\n",
       " 'Data Scientist - Python/Machine Learning',\n",
       " 'Senior Associate - Data Science']"
      ]
     },
     "execution_count": 57,
     "metadata": {},
     "output_type": "execute_result"
    }
   ],
   "source": [
    "for i in title_tags[ : 10]:\n",
    "    titles=i.text\n",
    "    job_titles.append(titles)\n",
    "job_titles"
   ]
  },
  {
   "cell_type": "code",
   "execution_count": 58,
   "id": "68e409f2",
   "metadata": {},
   "outputs": [
    {
     "data": {
      "text/plain": [
       "[<selenium.webdriver.remote.webelement.WebElement (session=\"e66bb554f8311cf87e150fbe40e61d36\", element=\"871bf823-63a4-402d-8b94-12ee110c6a2a\")>,\n",
       " <selenium.webdriver.remote.webelement.WebElement (session=\"e66bb554f8311cf87e150fbe40e61d36\", element=\"3a76bf80-fbc2-4610-858c-7c3abea16adc\")>,\n",
       " <selenium.webdriver.remote.webelement.WebElement (session=\"e66bb554f8311cf87e150fbe40e61d36\", element=\"5320dae0-4fe6-4ca2-8903-b713bd3ef204\")>,\n",
       " <selenium.webdriver.remote.webelement.WebElement (session=\"e66bb554f8311cf87e150fbe40e61d36\", element=\"d93eec72-3090-4012-96c8-2c1452ffc769\")>,\n",
       " <selenium.webdriver.remote.webelement.WebElement (session=\"e66bb554f8311cf87e150fbe40e61d36\", element=\"6b947d06-de70-453a-869d-298b5a02989a\")>,\n",
       " <selenium.webdriver.remote.webelement.WebElement (session=\"e66bb554f8311cf87e150fbe40e61d36\", element=\"247f285b-3276-4687-be69-5a65a82c85d3\")>,\n",
       " <selenium.webdriver.remote.webelement.WebElement (session=\"e66bb554f8311cf87e150fbe40e61d36\", element=\"ec5df0cd-761b-4e38-9623-63fe4982fdc4\")>,\n",
       " <selenium.webdriver.remote.webelement.WebElement (session=\"e66bb554f8311cf87e150fbe40e61d36\", element=\"b6cb6903-a9ea-47b9-a8d8-815169f8dfdd\")>,\n",
       " <selenium.webdriver.remote.webelement.WebElement (session=\"e66bb554f8311cf87e150fbe40e61d36\", element=\"b7f17041-0887-42fa-984c-4f41b882d55b\")>,\n",
       " <selenium.webdriver.remote.webelement.WebElement (session=\"e66bb554f8311cf87e150fbe40e61d36\", element=\"a900b4cf-b46f-43e0-a976-f09da80940e9\")>]"
      ]
     },
     "execution_count": 58,
     "metadata": {},
     "output_type": "execute_result"
    }
   ],
   "source": [
    "# extract location tags\n",
    "location_tag = driver.find_elements(By.XPATH, \"//li[@class='fleft grey-text br2 placeHolderLi location']\")\n",
    "location_tag [ : 10]"
   ]
  },
  {
   "cell_type": "code",
   "execution_count": 59,
   "id": "474ab3ef",
   "metadata": {},
   "outputs": [],
   "source": [
    "# location is in location_tags \n",
    "for i in location_tag[ : 10]:\n",
    "    locations = i.text\n",
    "    loc1.append(locations)\n",
    "loc1 = loc1 [ : 10]"
   ]
  },
  {
   "cell_type": "code",
   "execution_count": 60,
   "id": "988c859f",
   "metadata": {},
   "outputs": [],
   "source": [
    "# extract company names tags\n",
    "companies_tags=driver.find_elements(By.XPATH, \"//a[@class='subTitle ellipsis fleft']\")"
   ]
  },
  {
   "cell_type": "code",
   "execution_count": 61,
   "id": "3339673f",
   "metadata": {
    "scrolled": true
   },
   "outputs": [],
   "source": [
    "# company name in the tag extracted above\n",
    "for i in companies_tags[ : 10]:\n",
    "    company_name=i.text\n",
    "    company_names.append(company_name)\n",
    "company_names = company_names [ : 10]"
   ]
  },
  {
   "cell_type": "code",
   "execution_count": 62,
   "id": "e335cfd2",
   "metadata": {},
   "outputs": [
    {
     "name": "stdout",
     "output_type": "stream",
     "text": [
      "10 10 10\n"
     ]
    }
   ],
   "source": [
    "print(len(job_titles), len(company_names), len(loc1))"
   ]
  },
  {
   "cell_type": "code",
   "execution_count": 64,
   "id": "663fa33a",
   "metadata": {
    "scrolled": true
   },
   "outputs": [
    {
     "data": {
      "text/html": [
       "<div>\n",
       "<style scoped>\n",
       "    .dataframe tbody tr th:only-of-type {\n",
       "        vertical-align: middle;\n",
       "    }\n",
       "\n",
       "    .dataframe tbody tr th {\n",
       "        vertical-align: top;\n",
       "    }\n",
       "\n",
       "    .dataframe thead th {\n",
       "        text-align: right;\n",
       "    }\n",
       "</style>\n",
       "<table border=\"1\" class=\"dataframe\">\n",
       "  <thead>\n",
       "    <tr style=\"text-align: right;\">\n",
       "      <th></th>\n",
       "      <th>Job Title</th>\n",
       "      <th>Job Location</th>\n",
       "      <th>Company Name</th>\n",
       "    </tr>\n",
       "  </thead>\n",
       "  <tbody>\n",
       "    <tr>\n",
       "      <th>0</th>\n",
       "      <td>Data Scientist/ Senior Data Scientist</td>\n",
       "      <td>Pune, Gurgaon/Gurugram, Chennai, Bangalore/Ben...</td>\n",
       "      <td>Fractal Analytics</td>\n",
       "    </tr>\n",
       "    <tr>\n",
       "      <th>1</th>\n",
       "      <td>Urgent Job Opening For AI Practitioner - Data ...</td>\n",
       "      <td>Kochi/Cochin, New Delhi, Bangalore/Bengaluru, ...</td>\n",
       "      <td>Wipro</td>\n",
       "    </tr>\n",
       "    <tr>\n",
       "      <th>2</th>\n",
       "      <td>Data Science - Senior Data Scientist - Analytics</td>\n",
       "      <td>Noida, Bangalore/Bengaluru</td>\n",
       "      <td>Paytm</td>\n",
       "    </tr>\n",
       "    <tr>\n",
       "      <th>3</th>\n",
       "      <td>Research and Development -AI/ML -(PhD )</td>\n",
       "      <td>Delhi / NCR, Noida, Hyderabad/Secunderabad, Pu...</td>\n",
       "      <td>EXL</td>\n",
       "    </tr>\n",
       "    <tr>\n",
       "      <th>4</th>\n",
       "      <td>Opportunity For Data Scientist - Female Candid...</td>\n",
       "      <td>Gurgaon/Gurugram, Bangalore/Bengaluru, Mumbai ...</td>\n",
       "      <td>PayU</td>\n",
       "    </tr>\n",
       "    <tr>\n",
       "      <th>5</th>\n",
       "      <td>Senior Data Science Engineer</td>\n",
       "      <td>Gurgaon/Gurugram, Bangalore/Bengaluru, Mumbai ...</td>\n",
       "      <td>Fractal Analytics</td>\n",
       "    </tr>\n",
       "    <tr>\n",
       "      <th>6</th>\n",
       "      <td>Data Science - Engineering Manager</td>\n",
       "      <td>Noida, Mumbai, Bangalore/Bengaluru</td>\n",
       "      <td>Paytm</td>\n",
       "    </tr>\n",
       "    <tr>\n",
       "      <th>7</th>\n",
       "      <td>DigitalBCG GAMMA Data Scientist</td>\n",
       "      <td>New Delhi, Bangalore/Bengaluru</td>\n",
       "      <td>Boston Consulting Group</td>\n",
       "    </tr>\n",
       "    <tr>\n",
       "      <th>8</th>\n",
       "      <td>Data Scientist - Python/Machine Learning</td>\n",
       "      <td>Delhi / NCR, Kolkata, Mumbai, Hyderabad/Secund...</td>\n",
       "      <td>Accubits Technologies</td>\n",
       "    </tr>\n",
       "    <tr>\n",
       "      <th>9</th>\n",
       "      <td>Senior Associate - Data Science</td>\n",
       "      <td>Mumbai, Hyderabad/Secunderabad, Gurgaon/Gurugr...</td>\n",
       "      <td>Black Turtle</td>\n",
       "    </tr>\n",
       "  </tbody>\n",
       "</table>\n",
       "</div>"
      ],
      "text/plain": [
       "                                           Job Title  \\\n",
       "0              Data Scientist/ Senior Data Scientist   \n",
       "1  Urgent Job Opening For AI Practitioner - Data ...   \n",
       "2   Data Science - Senior Data Scientist - Analytics   \n",
       "3            Research and Development -AI/ML -(PhD )   \n",
       "4  Opportunity For Data Scientist - Female Candid...   \n",
       "5                       Senior Data Science Engineer   \n",
       "6                 Data Science - Engineering Manager   \n",
       "7                    DigitalBCG GAMMA Data Scientist   \n",
       "8           Data Scientist - Python/Machine Learning   \n",
       "9                    Senior Associate - Data Science   \n",
       "\n",
       "                                        Job Location             Company Name  \n",
       "0  Pune, Gurgaon/Gurugram, Chennai, Bangalore/Ben...        Fractal Analytics  \n",
       "1  Kochi/Cochin, New Delhi, Bangalore/Bengaluru, ...                    Wipro  \n",
       "2                         Noida, Bangalore/Bengaluru                    Paytm  \n",
       "3  Delhi / NCR, Noida, Hyderabad/Secunderabad, Pu...                      EXL  \n",
       "4  Gurgaon/Gurugram, Bangalore/Bengaluru, Mumbai ...                     PayU  \n",
       "5  Gurgaon/Gurugram, Bangalore/Bengaluru, Mumbai ...        Fractal Analytics  \n",
       "6                 Noida, Mumbai, Bangalore/Bengaluru                    Paytm  \n",
       "7                     New Delhi, Bangalore/Bengaluru  Boston Consulting Group  \n",
       "8  Delhi / NCR, Kolkata, Mumbai, Hyderabad/Secund...    Accubits Technologies  \n",
       "9  Mumbai, Hyderabad/Secunderabad, Gurgaon/Gurugr...             Black Turtle  "
      ]
     },
     "execution_count": 64,
     "metadata": {},
     "output_type": "execute_result"
    }
   ],
   "source": [
    "pd.set_option(\"display.max_rows\", None, \"display.max_columns\", None)\n",
    "df2 = pd.DataFrame({'Job Title':job_titles, 'Job Location':loc1, 'Company Name':company_names})\n",
    "df2"
   ]
  },
  {
   "cell_type": "markdown",
   "id": "4e18c1d5",
   "metadata": {},
   "source": [
    "## 100 listings on flipkart.com"
   ]
  },
  {
   "cell_type": "code",
   "execution_count": 6,
   "id": "4f5eab61",
   "metadata": {},
   "outputs": [],
   "source": [
    "# import libraries\n",
    "\n",
    "import selenium\n",
    "import pandas as pd\n",
    "from selenium import webdriver\n",
    "from selenium.webdriver.common.by import By\n",
    "import time"
   ]
  },
  {
   "cell_type": "code",
   "execution_count": 7,
   "id": "0f404b19",
   "metadata": {},
   "outputs": [
    {
     "name": "stderr",
     "output_type": "stream",
     "text": [
      "C:\\Users\\DINESH~1\\AppData\\Local\\Temp/ipykernel_8000/2924793791.py:3: DeprecationWarning: executable_path has been deprecated, please pass in a Service object\n",
      "  driver = webdriver.Chrome('chromedriver.exe')\n"
     ]
    }
   ],
   "source": [
    "# web driver to be used, needs to be connected\n",
    "\n",
    "driver = webdriver.Chrome('chromedriver.exe')"
   ]
  },
  {
   "cell_type": "code",
   "execution_count": 8,
   "id": "d18927b2",
   "metadata": {},
   "outputs": [],
   "source": [
    "url = 'https://www.flipkart.com/'\n",
    "driver.get(url)"
   ]
  },
  {
   "cell_type": "code",
   "execution_count": 9,
   "id": "eadd473e",
   "metadata": {
    "scrolled": true
   },
   "outputs": [],
   "source": [
    "# closing the login tab first\n",
    "search_button = driver.find_element(By.XPATH , '/html/body/div[2]/div/div/button')\n",
    "search_button.click()"
   ]
  },
  {
   "cell_type": "code",
   "execution_count": 180,
   "id": "46355db0",
   "metadata": {},
   "outputs": [],
   "source": [
    "# search products\n",
    "search_sunglasses = driver.find_element(By.CLASS_NAME, \"_3704LK\")\n",
    "search_sunglasses.send_keys('sunglasses')"
   ]
  },
  {
   "cell_type": "code",
   "execution_count": 181,
   "id": "6b5e270e",
   "metadata": {},
   "outputs": [],
   "source": [
    "search_b1 = driver.find_element(By.XPATH , '/html/body/div[1]/div/div[1]/div[1]/div[2]/div[2]/form/div/button')\n",
    "search_b1.click()"
   ]
  },
  {
   "cell_type": "code",
   "execution_count": 191,
   "id": "43e53d12",
   "metadata": {},
   "outputs": [
    {
     "data": {
      "text/plain": [
       "<selenium.webdriver.remote.webelement.WebElement (session=\"ebb55eead3cc6a5552cdc8b29741e4f8\", element=\"1c29aebb-43a9-47a7-8fbc-1af464a41325\")>"
      ]
     },
     "execution_count": 191,
     "metadata": {},
     "output_type": "execute_result"
    }
   ],
   "source": [
    "sunglasses_1 = driver.find_element(By.XPATH, \"//div[@class='_1xHGtK _373qXS']\")\n",
    "sunglasses_1"
   ]
  },
  {
   "cell_type": "code",
   "execution_count": 185,
   "id": "b484a0a4",
   "metadata": {},
   "outputs": [],
   "source": [
    "click_next = driver.find_element(By.XPATH, '/html/body/div[1]/div/div[3]/div[1]/div[2]/div[12]/div/div/nav/a[11]')\n",
    "click_next.click()"
   ]
  },
  {
   "cell_type": "code",
   "execution_count": 186,
   "id": "8c1b9135",
   "metadata": {},
   "outputs": [
    {
     "data": {
      "text/plain": [
       "<selenium.webdriver.remote.webelement.WebElement (session=\"ebb55eead3cc6a5552cdc8b29741e4f8\", element=\"366a9ac7-8b25-4156-a636-acf74fb3a022\")>"
      ]
     },
     "execution_count": 186,
     "metadata": {},
     "output_type": "execute_result"
    }
   ],
   "source": [
    "sunglasses_2 = driver.find_element(By.CLASS_NAME, \"_2B099V\")\n",
    "sunglasses_2"
   ]
  },
  {
   "cell_type": "code",
   "execution_count": 187,
   "id": "68a1175a",
   "metadata": {},
   "outputs": [],
   "source": [
    "click_next2 = driver.find_element(By.XPATH, '/html/body/div[1]/div/div[3]/div[1]/div[2]/div[12]/div/div/nav/a[12]')\n",
    "click_next2.click()"
   ]
  },
  {
   "cell_type": "code",
   "execution_count": 188,
   "id": "e932179f",
   "metadata": {
    "scrolled": false
   },
   "outputs": [
    {
     "data": {
      "text/plain": [
       "<selenium.webdriver.remote.webelement.WebElement (session=\"ebb55eead3cc6a5552cdc8b29741e4f8\", element=\"0a1f649c-1dcf-4f0e-a686-4d3a0bf35f7c\")>"
      ]
     },
     "execution_count": 188,
     "metadata": {},
     "output_type": "execute_result"
    }
   ],
   "source": [
    "sunglasses_3 = driver.find_element(By.CLASS_NAME, \"_2WkVRV\")\n",
    "sunglasses_3 "
   ]
  },
  {
   "cell_type": "code",
   "execution_count": 195,
   "id": "3fb4b14a",
   "metadata": {
    "scrolled": true
   },
   "outputs": [
    {
     "ename": "TypeError",
     "evalue": "object of type 'WebElement' has no len()",
     "output_type": "error",
     "traceback": [
      "\u001b[1;31m---------------------------------------------------------------------------\u001b[0m",
      "\u001b[1;31mTypeError\u001b[0m                                 Traceback (most recent call last)",
      "\u001b[1;32mC:\\Users\\DINESH~1\\AppData\\Local\\Temp/ipykernel_26688/2070326547.py\u001b[0m in \u001b[0;36m<module>\u001b[1;34m\u001b[0m\n\u001b[1;32m----> 1\u001b[1;33m \u001b[0mprint\u001b[0m\u001b[1;33m(\u001b[0m\u001b[0mlen\u001b[0m\u001b[1;33m(\u001b[0m\u001b[0msunglasses_1\u001b[0m\u001b[1;33m)\u001b[0m\u001b[1;33m,\u001b[0m \u001b[0mlen\u001b[0m\u001b[1;33m(\u001b[0m\u001b[0msunglasses_2\u001b[0m\u001b[1;33m)\u001b[0m\u001b[1;33m,\u001b[0m \u001b[0mlen\u001b[0m\u001b[1;33m(\u001b[0m\u001b[0msunglasses_3\u001b[0m\u001b[1;33m)\u001b[0m\u001b[1;33m)\u001b[0m\u001b[1;33m\u001b[0m\u001b[1;33m\u001b[0m\u001b[0m\n\u001b[0m",
      "\u001b[1;31mTypeError\u001b[0m: object of type 'WebElement' has no len()"
     ]
    }
   ],
   "source": [
    "print(len(sunglasses_1), len(sunglasses_2), len(sunglasses_3))"
   ]
  },
  {
   "cell_type": "code",
   "execution_count": 194,
   "id": "9454983c",
   "metadata": {
    "collapsed": true
   },
   "outputs": [
    {
     "ename": "ValueError",
     "evalue": "If using all scalar values, you must pass an index",
     "output_type": "error",
     "traceback": [
      "\u001b[1;31m---------------------------------------------------------------------------\u001b[0m",
      "\u001b[1;31mValueError\u001b[0m                                Traceback (most recent call last)",
      "\u001b[1;32mC:\\Users\\DINESH~1\\AppData\\Local\\Temp/ipykernel_26688/4185262191.py\u001b[0m in \u001b[0;36m<module>\u001b[1;34m\u001b[0m\n\u001b[1;32m----> 1\u001b[1;33m \u001b[0mdf3\u001b[0m \u001b[1;33m=\u001b[0m \u001b[0mpd\u001b[0m\u001b[1;33m.\u001b[0m\u001b[0mDataFrame\u001b[0m\u001b[1;33m(\u001b[0m\u001b[1;33m{\u001b[0m\u001b[1;34m'sunglasses'\u001b[0m \u001b[1;33m:\u001b[0m \u001b[0msunglasses_1\u001b[0m\u001b[1;33m,\u001b[0m \u001b[1;34m'sunglasses2'\u001b[0m \u001b[1;33m:\u001b[0m \u001b[0msunglasses_2\u001b[0m\u001b[1;33m,\u001b[0m \u001b[1;34m'sunglasses3'\u001b[0m \u001b[1;33m:\u001b[0m \u001b[0msunglasses_3\u001b[0m\u001b[1;33m}\u001b[0m\u001b[1;33m)\u001b[0m\u001b[1;33m\u001b[0m\u001b[1;33m\u001b[0m\u001b[0m\n\u001b[0m\u001b[0;32m      2\u001b[0m \u001b[0mdf3\u001b[0m\u001b[1;33m\u001b[0m\u001b[1;33m\u001b[0m\u001b[0m\n",
      "\u001b[1;32m~\\anaconda3\\lib\\site-packages\\pandas\\core\\frame.py\u001b[0m in \u001b[0;36m__init__\u001b[1;34m(self, data, index, columns, dtype, copy)\u001b[0m\n\u001b[0;32m    612\u001b[0m         \u001b[1;32melif\u001b[0m \u001b[0misinstance\u001b[0m\u001b[1;33m(\u001b[0m\u001b[0mdata\u001b[0m\u001b[1;33m,\u001b[0m \u001b[0mdict\u001b[0m\u001b[1;33m)\u001b[0m\u001b[1;33m:\u001b[0m\u001b[1;33m\u001b[0m\u001b[1;33m\u001b[0m\u001b[0m\n\u001b[0;32m    613\u001b[0m             \u001b[1;31m# GH#38939 de facto copy defaults to False only in non-dict cases\u001b[0m\u001b[1;33m\u001b[0m\u001b[1;33m\u001b[0m\u001b[0m\n\u001b[1;32m--> 614\u001b[1;33m             \u001b[0mmgr\u001b[0m \u001b[1;33m=\u001b[0m \u001b[0mdict_to_mgr\u001b[0m\u001b[1;33m(\u001b[0m\u001b[0mdata\u001b[0m\u001b[1;33m,\u001b[0m \u001b[0mindex\u001b[0m\u001b[1;33m,\u001b[0m \u001b[0mcolumns\u001b[0m\u001b[1;33m,\u001b[0m \u001b[0mdtype\u001b[0m\u001b[1;33m=\u001b[0m\u001b[0mdtype\u001b[0m\u001b[1;33m,\u001b[0m \u001b[0mcopy\u001b[0m\u001b[1;33m=\u001b[0m\u001b[0mcopy\u001b[0m\u001b[1;33m,\u001b[0m \u001b[0mtyp\u001b[0m\u001b[1;33m=\u001b[0m\u001b[0mmanager\u001b[0m\u001b[1;33m)\u001b[0m\u001b[1;33m\u001b[0m\u001b[1;33m\u001b[0m\u001b[0m\n\u001b[0m\u001b[0;32m    615\u001b[0m         \u001b[1;32melif\u001b[0m \u001b[0misinstance\u001b[0m\u001b[1;33m(\u001b[0m\u001b[0mdata\u001b[0m\u001b[1;33m,\u001b[0m \u001b[0mma\u001b[0m\u001b[1;33m.\u001b[0m\u001b[0mMaskedArray\u001b[0m\u001b[1;33m)\u001b[0m\u001b[1;33m:\u001b[0m\u001b[1;33m\u001b[0m\u001b[1;33m\u001b[0m\u001b[0m\n\u001b[0;32m    616\u001b[0m             \u001b[1;32mimport\u001b[0m \u001b[0mnumpy\u001b[0m\u001b[1;33m.\u001b[0m\u001b[0mma\u001b[0m\u001b[1;33m.\u001b[0m\u001b[0mmrecords\u001b[0m \u001b[1;32mas\u001b[0m \u001b[0mmrecords\u001b[0m\u001b[1;33m\u001b[0m\u001b[1;33m\u001b[0m\u001b[0m\n",
      "\u001b[1;32m~\\anaconda3\\lib\\site-packages\\pandas\\core\\internals\\construction.py\u001b[0m in \u001b[0;36mdict_to_mgr\u001b[1;34m(data, index, columns, dtype, typ, copy)\u001b[0m\n\u001b[0;32m    462\u001b[0m         \u001b[1;31m# TODO: can we get rid of the dt64tz special case above?\u001b[0m\u001b[1;33m\u001b[0m\u001b[1;33m\u001b[0m\u001b[0m\n\u001b[0;32m    463\u001b[0m \u001b[1;33m\u001b[0m\u001b[0m\n\u001b[1;32m--> 464\u001b[1;33m     return arrays_to_mgr(\n\u001b[0m\u001b[0;32m    465\u001b[0m         \u001b[0marrays\u001b[0m\u001b[1;33m,\u001b[0m \u001b[0mdata_names\u001b[0m\u001b[1;33m,\u001b[0m \u001b[0mindex\u001b[0m\u001b[1;33m,\u001b[0m \u001b[0mcolumns\u001b[0m\u001b[1;33m,\u001b[0m \u001b[0mdtype\u001b[0m\u001b[1;33m=\u001b[0m\u001b[0mdtype\u001b[0m\u001b[1;33m,\u001b[0m \u001b[0mtyp\u001b[0m\u001b[1;33m=\u001b[0m\u001b[0mtyp\u001b[0m\u001b[1;33m,\u001b[0m \u001b[0mconsolidate\u001b[0m\u001b[1;33m=\u001b[0m\u001b[0mcopy\u001b[0m\u001b[1;33m\u001b[0m\u001b[1;33m\u001b[0m\u001b[0m\n\u001b[0;32m    466\u001b[0m     )\n",
      "\u001b[1;32m~\\anaconda3\\lib\\site-packages\\pandas\\core\\internals\\construction.py\u001b[0m in \u001b[0;36marrays_to_mgr\u001b[1;34m(arrays, arr_names, index, columns, dtype, verify_integrity, typ, consolidate)\u001b[0m\n\u001b[0;32m    117\u001b[0m         \u001b[1;31m# figure out the index, if necessary\u001b[0m\u001b[1;33m\u001b[0m\u001b[1;33m\u001b[0m\u001b[0m\n\u001b[0;32m    118\u001b[0m         \u001b[1;32mif\u001b[0m \u001b[0mindex\u001b[0m \u001b[1;32mis\u001b[0m \u001b[1;32mNone\u001b[0m\u001b[1;33m:\u001b[0m\u001b[1;33m\u001b[0m\u001b[1;33m\u001b[0m\u001b[0m\n\u001b[1;32m--> 119\u001b[1;33m             \u001b[0mindex\u001b[0m \u001b[1;33m=\u001b[0m \u001b[0m_extract_index\u001b[0m\u001b[1;33m(\u001b[0m\u001b[0marrays\u001b[0m\u001b[1;33m)\u001b[0m\u001b[1;33m\u001b[0m\u001b[1;33m\u001b[0m\u001b[0m\n\u001b[0m\u001b[0;32m    120\u001b[0m         \u001b[1;32melse\u001b[0m\u001b[1;33m:\u001b[0m\u001b[1;33m\u001b[0m\u001b[1;33m\u001b[0m\u001b[0m\n\u001b[0;32m    121\u001b[0m             \u001b[0mindex\u001b[0m \u001b[1;33m=\u001b[0m \u001b[0mensure_index\u001b[0m\u001b[1;33m(\u001b[0m\u001b[0mindex\u001b[0m\u001b[1;33m)\u001b[0m\u001b[1;33m\u001b[0m\u001b[1;33m\u001b[0m\u001b[0m\n",
      "\u001b[1;32m~\\anaconda3\\lib\\site-packages\\pandas\\core\\internals\\construction.py\u001b[0m in \u001b[0;36m_extract_index\u001b[1;34m(data)\u001b[0m\n\u001b[0;32m    623\u001b[0m \u001b[1;33m\u001b[0m\u001b[0m\n\u001b[0;32m    624\u001b[0m         \u001b[1;32mif\u001b[0m \u001b[1;32mnot\u001b[0m \u001b[0mindexes\u001b[0m \u001b[1;32mand\u001b[0m \u001b[1;32mnot\u001b[0m \u001b[0mraw_lengths\u001b[0m\u001b[1;33m:\u001b[0m\u001b[1;33m\u001b[0m\u001b[1;33m\u001b[0m\u001b[0m\n\u001b[1;32m--> 625\u001b[1;33m             \u001b[1;32mraise\u001b[0m \u001b[0mValueError\u001b[0m\u001b[1;33m(\u001b[0m\u001b[1;34m\"If using all scalar values, you must pass an index\"\u001b[0m\u001b[1;33m)\u001b[0m\u001b[1;33m\u001b[0m\u001b[1;33m\u001b[0m\u001b[0m\n\u001b[0m\u001b[0;32m    626\u001b[0m \u001b[1;33m\u001b[0m\u001b[0m\n\u001b[0;32m    627\u001b[0m         \u001b[1;32mif\u001b[0m \u001b[0mhave_series\u001b[0m\u001b[1;33m:\u001b[0m\u001b[1;33m\u001b[0m\u001b[1;33m\u001b[0m\u001b[0m\n",
      "\u001b[1;31mValueError\u001b[0m: If using all scalar values, you must pass an index"
     ]
    }
   ],
   "source": [
    "df3 = pd.DataFrame({'sunglasses' : sunglasses_1, 'sunglasses2' : sunglasses_2, 'sunglasses3' : sunglasses_3})\n",
    "df3"
   ]
  },
  {
   "cell_type": "markdown",
   "id": "590f0862",
   "metadata": {},
   "source": [
    "## Scrape 100 reviews data from flipkart.com for iphone11 phone"
   ]
  },
  {
   "cell_type": "code",
   "execution_count": 10,
   "id": "6534ac63",
   "metadata": {},
   "outputs": [],
   "source": [
    "# import libraries\n",
    "\n",
    "import selenium\n",
    "import pandas as pd\n",
    "from selenium import webdriver\n",
    "from selenium.webdriver.common.by import By\n",
    "import time"
   ]
  },
  {
   "cell_type": "code",
   "execution_count": 32,
   "id": "d1c9f45e",
   "metadata": {},
   "outputs": [
    {
     "name": "stderr",
     "output_type": "stream",
     "text": [
      "C:\\Users\\DINESH~1\\AppData\\Local\\Temp/ipykernel_8000/2924793791.py:3: DeprecationWarning: executable_path has been deprecated, please pass in a Service object\n",
      "  driver = webdriver.Chrome('chromedriver.exe')\n"
     ]
    }
   ],
   "source": [
    "# web driver to be used, needs to be connected\n",
    "\n",
    "driver = webdriver.Chrome('chromedriver.exe')"
   ]
  },
  {
   "cell_type": "code",
   "execution_count": 33,
   "id": "41406694",
   "metadata": {},
   "outputs": [],
   "source": [
    "# select the url\n",
    "url = 'https://www.flipkart.com/'\n",
    "driver.get(url)"
   ]
  },
  {
   "cell_type": "code",
   "execution_count": 34,
   "id": "fcb34884",
   "metadata": {},
   "outputs": [],
   "source": [
    "# closing the login tab first\n",
    "search_button = driver.find_element(By.XPATH , '/html/body/div[2]/div/div/button')\n",
    "search_button.click()"
   ]
  },
  {
   "cell_type": "code",
   "execution_count": 35,
   "id": "2ccb535f",
   "metadata": {},
   "outputs": [],
   "source": [
    "# search product\n",
    "iphone = driver.find_element(By.CLASS_NAME, \"_3704LK\")\n",
    "iphone.send_keys(\"iphone 11\")"
   ]
  },
  {
   "cell_type": "code",
   "execution_count": 36,
   "id": "37db7fb6",
   "metadata": {},
   "outputs": [],
   "source": [
    "search_b1 = driver.find_element(By.XPATH , '/html/body/div[1]/div/div[1]/div[1]/div[2]/div[2]/form/div/button')\n",
    "search_b1.click()"
   ]
  },
  {
   "cell_type": "code",
   "execution_count": 37,
   "id": "842ef6c8",
   "metadata": {},
   "outputs": [],
   "source": [
    "url_1 = 'https://www.flipkart.com/apple-iphone-11-white-128-gb/p/itme32df47ea6742?pid=MOBFWQ6B7KKRXDDS&lid=LSTMOBFWQ6B7KKRXDDSUPVRTR&marketplace=FLIPKART&q=iphone+11&store=tyy%2F4io&srno=s_1_1&otracker=search&otracker1=search&fm=organic&iid=b4e0209b-1d15-4c8c-af8a-4bdd196696e8.MOBFWQ6B7KKRXDDS.SEARCH&ppt=hp&ppn=homepage&ssid=rfqaoh34lc0000001657690555867&qH=f6cdfdaa9f3c23f3'\n",
    "driver.get(url_1)"
   ]
  },
  {
   "cell_type": "code",
   "execution_count": 39,
   "id": "d1a1e37c",
   "metadata": {},
   "outputs": [],
   "source": [
    "driver.get('https://www.flipkart.com/apple-iphone-11-black-128-gb/product-reviews/itm8244e8d955aba?pid=MOBFWQ6BKRYBP5X8&lid=LSTMOBFWQ6BKRYBP5X8X0KYUG&marketplace=FLIPKART')"
   ]
  },
  {
   "cell_type": "code",
   "execution_count": 40,
   "id": "63413ab5",
   "metadata": {},
   "outputs": [],
   "source": [
    "rating = []\n",
    "rev_sum = []\n",
    "full_rev = []"
   ]
  },
  {
   "cell_type": "code",
   "execution_count": 41,
   "id": "18ad5867",
   "metadata": {},
   "outputs": [],
   "source": [
    "for j in range (0,10):   \n",
    "    time.sleep(5)\n",
    "\n",
    "rating_tags = driver.find_elements(By.XPATH, \"//div[@class='_3LWZlK _1BLPMq' or @class='_3LWZlK _1rdVr6 _1BLPMq' ]\")"
   ]
  },
  {
   "cell_type": "code",
   "execution_count": null,
   "id": "28e7c5f1",
   "metadata": {},
   "outputs": [],
   "source": [
    "#rating inside rating tag\n",
    "for i in rating_tags:                 \n",
    "        titles=i.text\n",
    "        rating.append(titles)"
   ]
  },
  {
   "cell_type": "code",
   "execution_count": null,
   "id": "74f2c9b4",
   "metadata": {},
   "outputs": [],
   "source": [
    "#extract tags with review\n",
    "revsum_tags = driver.find_elements(By.XPATH, \"//p[@class='_2-N8zT']\")"
   ]
  },
  {
   "cell_type": "code",
   "execution_count": null,
   "id": "e8fc8a22",
   "metadata": {},
   "outputs": [],
   "source": [
    "# review summary is in above summary tag\n",
    "for i in revsum_tags:\n",
    "        products = i.text\n",
    "        rev_sum.append(products) "
   ]
  },
  {
   "cell_type": "code",
   "execution_count": null,
   "id": "5bcdd1fe",
   "metadata": {},
   "outputs": [],
   "source": [
    "# extract full reviews tags\n",
    "fulrev_tags = driver.find_elements(By.XPATH, \"//div[@class='t-ZTKy']\")"
   ]
  },
  {
   "cell_type": "code",
   "execution_count": null,
   "id": "c8cd5f3f",
   "metadata": {},
   "outputs": [],
   "source": [
    "# full review summary is in above summary tag\n",
    "for i in fulrev_tags:\n",
    "    r = i.text\n",
    "    full_rev.append(r) "
   ]
  },
  {
   "cell_type": "code",
   "execution_count": null,
   "id": "1ec5694e",
   "metadata": {},
   "outputs": [],
   "source": [
    "if j==0:\n",
    "        time.sleep(5)                             \n",
    "        next_button=driver.find_element(By.XPATH, \"/html/body/div[1]/div/div[3]/div/div/div[2]/div[13]/div/div/nav/a[11]/span\")\n",
    "        next_button.click()\n",
    "        time.sleep(5)\n",
    "    else:\n",
    "        time.sleep(5)                            \n",
    "        next_button=driver.find_element(By.XPATH, \"/html/body/div[1]/div/div[3]/div/div/div[2]/div[13]/div/div/nav/a[12]/span\")\n",
    "        next_button.click()\n",
    "        time.sleep(5)"
   ]
  },
  {
   "cell_type": "code",
   "execution_count": null,
   "id": "c078ab2b",
   "metadata": {},
   "outputs": [],
   "source": [
    "# check entire data frame\n",
    "pd.set_option(\"display.max_rows\", None, \"display.max_columns\", None)\n",
    "# print the dataframe\n",
    "df3 = pd.DataFrame({'Rating' : rating[0 : 100], 'Review Summary' : rev_sum[0 : 100], 'Full Review' : ful_rev[0 : 100]})\n",
    "df3"
   ]
  },
  {
   "cell_type": "markdown",
   "id": "0be93376",
   "metadata": {},
   "source": [
    "##  Scrape data for first 100 sneakers you find when you visit flipkart.com and search for “sneakers” in the search field."
   ]
  },
  {
   "cell_type": "code",
   "execution_count": null,
   "id": "da52f5bf",
   "metadata": {},
   "outputs": [],
   "source": [
    "# import libraries\n",
    "\n",
    "import selenium\n",
    "import pandas as pd\n",
    "from selenium import webdriver\n",
    "from selenium.webdriver.common.by import By\n",
    "import time"
   ]
  },
  {
   "cell_type": "code",
   "execution_count": 42,
   "id": "1cf2c267",
   "metadata": {},
   "outputs": [
    {
     "name": "stderr",
     "output_type": "stream",
     "text": [
      "C:\\Users\\DINESH~1\\AppData\\Local\\Temp/ipykernel_8000/2924793791.py:3: DeprecationWarning: executable_path has been deprecated, please pass in a Service object\n",
      "  driver = webdriver.Chrome('chromedriver.exe')\n"
     ]
    }
   ],
   "source": [
    "# web driver to be used, needs to be connected\n",
    "\n",
    "driver = webdriver.Chrome('chromedriver.exe')"
   ]
  },
  {
   "cell_type": "code",
   "execution_count": 43,
   "id": "afebf8a3",
   "metadata": {},
   "outputs": [],
   "source": [
    "# select the url\n",
    "url3  = 'https://www.flipkart.com/'\n",
    "driver.get(url3)"
   ]
  },
  {
   "cell_type": "code",
   "execution_count": 44,
   "id": "e09aaec4",
   "metadata": {},
   "outputs": [],
   "source": [
    "# closing the login tab first\n",
    "search_button = driver.find_element(By.XPATH , '/html/body/div[2]/div/div/button')\n",
    "search_button.click()"
   ]
  },
  {
   "cell_type": "code",
   "execution_count": 45,
   "id": "3d24ade3",
   "metadata": {},
   "outputs": [],
   "source": [
    "# search product\n",
    "search_sneakers = driver.find_element(By.CLASS_NAME, \"_3704LK\")\n",
    "search_sneakers.send_keys(\"sneakers\")"
   ]
  },
  {
   "cell_type": "code",
   "execution_count": 46,
   "id": "34e08d21",
   "metadata": {},
   "outputs": [],
   "source": [
    "# click the search button\n",
    "search_b2 = driver.find_element(By.XPATH , '/html/body/div[1]/div/div[1]/div[1]/div[2]/div[2]/form/div/button')\n",
    "search_b2.click()"
   ]
  },
  {
   "cell_type": "code",
   "execution_count": 47,
   "id": "59022757",
   "metadata": {},
   "outputs": [],
   "source": [
    "brand = []\n",
    "product = []\n",
    "price = []\n",
    "discount = [] "
   ]
  },
  {
   "cell_type": "code",
   "execution_count": null,
   "id": "1cdc3813",
   "metadata": {},
   "outputs": [],
   "source": [
    "for j in range (0,3):\n",
    "    time.sleep(5)\n",
    "    \n",
    "# extracting all the tags brand\n",
    "brand_tags=driver.find_elements(By.XPATH, \"//div[@class='_2WkVRV']\")"
   ]
  },
  {
   "cell_type": "code",
   "execution_count": null,
   "id": "960071d5",
   "metadata": {},
   "outputs": [],
   "source": [
    "# Now the text in brand is inside the tag above\n",
    "for i in brand_tags:\n",
    "    titles=i.text\n",
    "    brand.append(titles)"
   ]
  },
  {
   "cell_type": "code",
   "execution_count": null,
   "id": "c84f37aa",
   "metadata": {},
   "outputs": [],
   "source": [
    "# extracting all tags with product description\n",
    "product_tags=driver.find_elements(By.XPATH, \"//div[@class='_2B099V']/a[1]\")"
   ]
  },
  {
   "cell_type": "code",
   "execution_count": null,
   "id": "538c8f32",
   "metadata": {},
   "outputs": [],
   "source": [
    "# Now the text in product is inside the tag above \n",
    "for i in product_tags:\n",
    "    products=i.text\n",
    "    product.append(products)"
   ]
  },
  {
   "cell_type": "code",
   "execution_count": null,
   "id": "1c1a5c91",
   "metadata": {},
   "outputs": [],
   "source": [
    "# extracting all tags having the price\n",
    "price_tags=driver.find_elements(By.XPATH, \"//div[@class='_30jeq3']\")"
   ]
  },
  {
   "cell_type": "code",
   "execution_count": null,
   "id": "c465bad5",
   "metadata": {},
   "outputs": [],
   "source": [
    "# Now the text in price is inside the tag above\n",
    "for i in price_tags:\n",
    "    prices=i.text\n",
    "    price.append(prices)"
   ]
  },
  {
   "cell_type": "code",
   "execution_count": null,
   "id": "3173ecf3",
   "metadata": {},
   "outputs": [],
   "source": [
    "#Lets extract all the tags having the discount\n",
    "discount_tags = driver.find_elements(By.XPATH, \"//div[@class='_3Ay6Sb']/span\")"
   ]
  },
  {
   "cell_type": "code",
   "execution_count": null,
   "id": "fe690244",
   "metadata": {},
   "outputs": [],
   "source": [
    "# Now the text in discount is inside the tag above\n",
    "for i in discount_tags:\n",
    "        discounts=i.text\n",
    "        discount.append(discounts)"
   ]
  },
  {
   "cell_type": "code",
   "execution_count": null,
   "id": "58a0874b",
   "metadata": {},
   "outputs": [],
   "source": [
    "# click on the next button\n",
    "if j==0:\n",
    "        time.sleep(5)\n",
    "        next_button=driver.find_element(By.XPATH, \"/html/body/div/div/div[3]/div[1]/div[2]/div[12]/div/div/nav/a[11]/span\")\n",
    "        next_button.click()\n",
    "        time.sleep(5)\n",
    "else:\n",
    "        time.sleep(5)\n",
    "        next_button=driver.find_element(By.XPATH, \"/html/body/div/div/div[3]/div[1]/div[2]/div[12]/div/div/nav/a[12]/span\")\n",
    "        next_button.click()\n",
    "        time.sleep(5)"
   ]
  },
  {
   "cell_type": "code",
   "execution_count": null,
   "id": "ac93a4ad",
   "metadata": {},
   "outputs": [],
   "source": [
    "# check complete data frame\n",
    "pd.set_option(\"display.max_rows\", None, \"display.max_columns\", None)\n",
    "df4 = pd.DataFrame({'Brand':brand[0:100], 'Product description':product[0:100], 'Price': price[0:100], 'Discount Provided': discount[0:100]})\n",
    "df4"
   ]
  },
  {
   "cell_type": "markdown",
   "id": "c2251a46",
   "metadata": {},
   "source": [
    "##  Go to the link - https://www.myntra.com/shoes . Set second Price filter and Color filter to           “Black”"
   ]
  },
  {
   "cell_type": "code",
   "execution_count": 31,
   "id": "8f20f8c2",
   "metadata": {},
   "outputs": [],
   "source": [
    "# import libraries\n",
    "\n",
    "import selenium\n",
    "import pandas as pd\n",
    "from selenium import webdriver\n",
    "from selenium.webdriver.common.by import By\n",
    "import time"
   ]
  },
  {
   "cell_type": "code",
   "execution_count": 32,
   "id": "0ff03212",
   "metadata": {},
   "outputs": [
    {
     "name": "stderr",
     "output_type": "stream",
     "text": [
      "C:\\Users\\DINESH~1\\AppData\\Local\\Temp/ipykernel_21900/2924793791.py:3: DeprecationWarning: executable_path has been deprecated, please pass in a Service object\n",
      "  driver = webdriver.Chrome('chromedriver.exe')\n"
     ]
    }
   ],
   "source": [
    "# web driver to be used, needs to be connected\n",
    "\n",
    "driver = webdriver.Chrome('chromedriver.exe')"
   ]
  },
  {
   "cell_type": "code",
   "execution_count": 33,
   "id": "7db25f69",
   "metadata": {},
   "outputs": [],
   "source": [
    "# open the required url\n",
    "url4 = 'https://www.myntra.com/shoes'\n",
    "driver.get(url4)"
   ]
  },
  {
   "cell_type": "code",
   "execution_count": 34,
   "id": "95a508a5",
   "metadata": {
    "collapsed": true
   },
   "outputs": [
    {
     "ename": "WebDriverException",
     "evalue": "Message: unknown error: cannot determine loading status\nfrom unknown error: unexpected command response\n  (Session info: chrome=103.0.5060.114)\nStacktrace:\nBacktrace:\n\tOrdinal0 [0x00616463+2188387]\n\tOrdinal0 [0x005AE461+1762401]\n\tOrdinal0 [0x004C3D78+802168]\n\tOrdinal0 [0x004B7210+750096]\n\tOrdinal0 [0x004B675A+747354]\n\tOrdinal0 [0x004B5D3F+744767]\n\tOrdinal0 [0x004B4C28+740392]\n\tOrdinal0 [0x004B5228+741928]\n\tOrdinal0 [0x004BF153+782675]\n\tOrdinal0 [0x004C9FBB+827323]\n\tOrdinal0 [0x004CD310+840464]\n\tOrdinal0 [0x004B54F6+742646]\n\tOrdinal0 [0x004C9BF3+826355]\n\tOrdinal0 [0x0051CF6D+1167213]\n\tOrdinal0 [0x0050C5F6+1099254]\n\tOrdinal0 [0x004E6BE0+945120]\n\tOrdinal0 [0x004E7AD6+948950]\n\tGetHandleVerifier [0x008B71F2+2712546]\n\tGetHandleVerifier [0x008A886D+2652765]\n\tGetHandleVerifier [0x006A002A+520730]\n\tGetHandleVerifier [0x0069EE06+516086]\n\tOrdinal0 [0x005B468B+1787531]\n\tOrdinal0 [0x005B8E88+1805960]\n\tOrdinal0 [0x005B8F75+1806197]\n\tOrdinal0 [0x005C1DF1+1842673]\n\tBaseThreadInitThunk [0x760E6739+25]\n\tRtlGetFullPathName_UEx [0x77108FEF+1215]\n\tRtlGetFullPathName_UEx [0x77108FBD+1165]\n",
     "output_type": "error",
     "traceback": [
      "\u001b[1;31m---------------------------------------------------------------------------\u001b[0m",
      "\u001b[1;31mWebDriverException\u001b[0m                        Traceback (most recent call last)",
      "\u001b[1;32mC:\\Users\\DINESH~1\\AppData\\Local\\Temp/ipykernel_21900/1849103050.py\u001b[0m in \u001b[0;36m<module>\u001b[1;34m\u001b[0m\n\u001b[0;32m      1\u001b[0m \u001b[1;31m# apply color & price filter\u001b[0m\u001b[1;33m\u001b[0m\u001b[1;33m\u001b[0m\u001b[0m\n\u001b[1;32m----> 2\u001b[1;33m \u001b[0mdriver\u001b[0m\u001b[1;33m.\u001b[0m\u001b[0mget\u001b[0m\u001b[1;33m(\u001b[0m\u001b[1;34m'https://www.myntra.com/shoes?f=Color%3ABlack_36454f&rf=Price%3A6637.0_13125.0_6637.0%20TO%2013125.0%2C299.0_7224.0_299.0%20TO%207224.0'\u001b[0m\u001b[1;33m)\u001b[0m\u001b[1;33m\u001b[0m\u001b[1;33m\u001b[0m\u001b[0m\n\u001b[0m",
      "\u001b[1;32m~\\anaconda3\\lib\\site-packages\\selenium\\webdriver\\remote\\webdriver.py\u001b[0m in \u001b[0;36mget\u001b[1;34m(self, url)\u001b[0m\n\u001b[0;32m    445\u001b[0m         \u001b[0mLoads\u001b[0m \u001b[0ma\u001b[0m \u001b[0mweb\u001b[0m \u001b[0mpage\u001b[0m \u001b[1;32min\u001b[0m \u001b[0mthe\u001b[0m \u001b[0mcurrent\u001b[0m \u001b[0mbrowser\u001b[0m \u001b[0msession\u001b[0m\u001b[1;33m.\u001b[0m\u001b[1;33m\u001b[0m\u001b[1;33m\u001b[0m\u001b[0m\n\u001b[0;32m    446\u001b[0m         \"\"\"\n\u001b[1;32m--> 447\u001b[1;33m         \u001b[0mself\u001b[0m\u001b[1;33m.\u001b[0m\u001b[0mexecute\u001b[0m\u001b[1;33m(\u001b[0m\u001b[0mCommand\u001b[0m\u001b[1;33m.\u001b[0m\u001b[0mGET\u001b[0m\u001b[1;33m,\u001b[0m \u001b[1;33m{\u001b[0m\u001b[1;34m'url'\u001b[0m\u001b[1;33m:\u001b[0m \u001b[0murl\u001b[0m\u001b[1;33m}\u001b[0m\u001b[1;33m)\u001b[0m\u001b[1;33m\u001b[0m\u001b[1;33m\u001b[0m\u001b[0m\n\u001b[0m\u001b[0;32m    448\u001b[0m \u001b[1;33m\u001b[0m\u001b[0m\n\u001b[0;32m    449\u001b[0m     \u001b[1;33m@\u001b[0m\u001b[0mproperty\u001b[0m\u001b[1;33m\u001b[0m\u001b[1;33m\u001b[0m\u001b[0m\n",
      "\u001b[1;32m~\\anaconda3\\lib\\site-packages\\selenium\\webdriver\\remote\\webdriver.py\u001b[0m in \u001b[0;36mexecute\u001b[1;34m(self, driver_command, params)\u001b[0m\n\u001b[0;32m    433\u001b[0m         \u001b[0mresponse\u001b[0m \u001b[1;33m=\u001b[0m \u001b[0mself\u001b[0m\u001b[1;33m.\u001b[0m\u001b[0mcommand_executor\u001b[0m\u001b[1;33m.\u001b[0m\u001b[0mexecute\u001b[0m\u001b[1;33m(\u001b[0m\u001b[0mdriver_command\u001b[0m\u001b[1;33m,\u001b[0m \u001b[0mparams\u001b[0m\u001b[1;33m)\u001b[0m\u001b[1;33m\u001b[0m\u001b[1;33m\u001b[0m\u001b[0m\n\u001b[0;32m    434\u001b[0m         \u001b[1;32mif\u001b[0m \u001b[0mresponse\u001b[0m\u001b[1;33m:\u001b[0m\u001b[1;33m\u001b[0m\u001b[1;33m\u001b[0m\u001b[0m\n\u001b[1;32m--> 435\u001b[1;33m             \u001b[0mself\u001b[0m\u001b[1;33m.\u001b[0m\u001b[0merror_handler\u001b[0m\u001b[1;33m.\u001b[0m\u001b[0mcheck_response\u001b[0m\u001b[1;33m(\u001b[0m\u001b[0mresponse\u001b[0m\u001b[1;33m)\u001b[0m\u001b[1;33m\u001b[0m\u001b[1;33m\u001b[0m\u001b[0m\n\u001b[0m\u001b[0;32m    436\u001b[0m             response['value'] = self._unwrap_value(\n\u001b[0;32m    437\u001b[0m                 response.get('value', None))\n",
      "\u001b[1;32m~\\anaconda3\\lib\\site-packages\\selenium\\webdriver\\remote\\errorhandler.py\u001b[0m in \u001b[0;36mcheck_response\u001b[1;34m(self, response)\u001b[0m\n\u001b[0;32m    245\u001b[0m                 \u001b[0malert_text\u001b[0m \u001b[1;33m=\u001b[0m \u001b[0mvalue\u001b[0m\u001b[1;33m[\u001b[0m\u001b[1;34m'alert'\u001b[0m\u001b[1;33m]\u001b[0m\u001b[1;33m.\u001b[0m\u001b[0mget\u001b[0m\u001b[1;33m(\u001b[0m\u001b[1;34m'text'\u001b[0m\u001b[1;33m)\u001b[0m\u001b[1;33m\u001b[0m\u001b[1;33m\u001b[0m\u001b[0m\n\u001b[0;32m    246\u001b[0m             \u001b[1;32mraise\u001b[0m \u001b[0mexception_class\u001b[0m\u001b[1;33m(\u001b[0m\u001b[0mmessage\u001b[0m\u001b[1;33m,\u001b[0m \u001b[0mscreen\u001b[0m\u001b[1;33m,\u001b[0m \u001b[0mstacktrace\u001b[0m\u001b[1;33m,\u001b[0m \u001b[0malert_text\u001b[0m\u001b[1;33m)\u001b[0m  \u001b[1;31m# type: ignore[call-arg]  # mypy is not smart enough here\u001b[0m\u001b[1;33m\u001b[0m\u001b[1;33m\u001b[0m\u001b[0m\n\u001b[1;32m--> 247\u001b[1;33m         \u001b[1;32mraise\u001b[0m \u001b[0mexception_class\u001b[0m\u001b[1;33m(\u001b[0m\u001b[0mmessage\u001b[0m\u001b[1;33m,\u001b[0m \u001b[0mscreen\u001b[0m\u001b[1;33m,\u001b[0m \u001b[0mstacktrace\u001b[0m\u001b[1;33m)\u001b[0m\u001b[1;33m\u001b[0m\u001b[1;33m\u001b[0m\u001b[0m\n\u001b[0m\u001b[0;32m    248\u001b[0m \u001b[1;33m\u001b[0m\u001b[0m\n\u001b[0;32m    249\u001b[0m     \u001b[1;32mdef\u001b[0m \u001b[0m_value_or_default\u001b[0m\u001b[1;33m(\u001b[0m\u001b[0mself\u001b[0m\u001b[1;33m,\u001b[0m \u001b[0mobj\u001b[0m\u001b[1;33m:\u001b[0m \u001b[0mMapping\u001b[0m\u001b[1;33m[\u001b[0m\u001b[0m_KT\u001b[0m\u001b[1;33m,\u001b[0m \u001b[0m_VT\u001b[0m\u001b[1;33m]\u001b[0m\u001b[1;33m,\u001b[0m \u001b[0mkey\u001b[0m\u001b[1;33m:\u001b[0m \u001b[0m_KT\u001b[0m\u001b[1;33m,\u001b[0m \u001b[0mdefault\u001b[0m\u001b[1;33m:\u001b[0m \u001b[0m_VT\u001b[0m\u001b[1;33m)\u001b[0m \u001b[1;33m->\u001b[0m \u001b[0m_VT\u001b[0m\u001b[1;33m:\u001b[0m\u001b[1;33m\u001b[0m\u001b[1;33m\u001b[0m\u001b[0m\n",
      "\u001b[1;31mWebDriverException\u001b[0m: Message: unknown error: cannot determine loading status\nfrom unknown error: unexpected command response\n  (Session info: chrome=103.0.5060.114)\nStacktrace:\nBacktrace:\n\tOrdinal0 [0x00616463+2188387]\n\tOrdinal0 [0x005AE461+1762401]\n\tOrdinal0 [0x004C3D78+802168]\n\tOrdinal0 [0x004B7210+750096]\n\tOrdinal0 [0x004B675A+747354]\n\tOrdinal0 [0x004B5D3F+744767]\n\tOrdinal0 [0x004B4C28+740392]\n\tOrdinal0 [0x004B5228+741928]\n\tOrdinal0 [0x004BF153+782675]\n\tOrdinal0 [0x004C9FBB+827323]\n\tOrdinal0 [0x004CD310+840464]\n\tOrdinal0 [0x004B54F6+742646]\n\tOrdinal0 [0x004C9BF3+826355]\n\tOrdinal0 [0x0051CF6D+1167213]\n\tOrdinal0 [0x0050C5F6+1099254]\n\tOrdinal0 [0x004E6BE0+945120]\n\tOrdinal0 [0x004E7AD6+948950]\n\tGetHandleVerifier [0x008B71F2+2712546]\n\tGetHandleVerifier [0x008A886D+2652765]\n\tGetHandleVerifier [0x006A002A+520730]\n\tGetHandleVerifier [0x0069EE06+516086]\n\tOrdinal0 [0x005B468B+1787531]\n\tOrdinal0 [0x005B8E88+1805960]\n\tOrdinal0 [0x005B8F75+1806197]\n\tOrdinal0 [0x005C1DF1+1842673]\n\tBaseThreadInitThunk [0x760E6739+25]\n\tRtlGetFullPathName_UEx [0x77108FEF+1215]\n\tRtlGetFullPathName_UEx [0x77108FBD+1165]\n"
     ]
    }
   ],
   "source": [
    "# apply color & price filter\n",
    "driver.get('https://www.myntra.com/shoes?f=Color%3ABlack_36454f&rf=Price%3A6637.0_13125.0_6637.0%20TO%2013125.0%2C299.0_7224.0_299.0%20TO%207224.0')"
   ]
  },
  {
   "cell_type": "code",
   "execution_count": 35,
   "id": "56502f91",
   "metadata": {},
   "outputs": [],
   "source": [
    "brand = []\n",
    "product = []\n",
    "price = []\n"
   ]
  },
  {
   "cell_type": "code",
   "execution_count": 36,
   "id": "4eee9986",
   "metadata": {},
   "outputs": [],
   "source": [
    "for j in range (0,2):          \n",
    "    time.sleep(5)\n",
    "# extract all the tags of brand\n",
    "brand_tags = driver.find_elements(By.XPATH, \"//h3[@class='product-brand']\")"
   ]
  },
  {
   "cell_type": "code",
   "execution_count": 37,
   "id": "57479101",
   "metadata": {},
   "outputs": [],
   "source": [
    "# Now text of brand is inside the tag above\n",
    "for i in brand_tags:\n",
    "    titles = i.text\n",
    "    brand.append(titles)"
   ]
  },
  {
   "cell_type": "code",
   "execution_count": 38,
   "id": "06336980",
   "metadata": {},
   "outputs": [],
   "source": [
    "# Lets extract all the tags with product description\n",
    "product_tags = driver.find_elements(By.XPATH, \"//h4[@class='product-product']\")"
   ]
  },
  {
   "cell_type": "code",
   "execution_count": 39,
   "id": "fe4f8518",
   "metadata": {},
   "outputs": [],
   "source": [
    "# Now the text of product description is inside the tag above\n",
    "for i in product_tags:\n",
    "    products=i.text\n",
    "    product.append(products)"
   ]
  },
  {
   "cell_type": "code",
   "execution_count": 40,
   "id": "f6e9934c",
   "metadata": {},
   "outputs": [],
   "source": [
    "# Lets extract the tags having price\n",
    "price_tags = driver.find_elements(By.XPATH, \"//div[@class='product-price']/span[1]\")"
   ]
  },
  {
   "cell_type": "code",
   "execution_count": 41,
   "id": "54759037",
   "metadata": {},
   "outputs": [],
   "source": [
    "# Now the text of price is inside the tag above\n",
    "for i in price_tags:\n",
    "    prices = i.text.split()[1]\n",
    "    pr = prices.replace('Rs.','')\n",
    "    price.append(''.join(pr))"
   ]
  },
  {
   "cell_type": "code",
   "execution_count": 42,
   "id": "d7032a58",
   "metadata": {},
   "outputs": [],
   "source": [
    "# click next button\n",
    "time.sleep(5)\n",
    "next_button = driver.find_element(By.XPATH, \"/html/body/div[2]/div/div[1]/main/div[3]/div[2]/div/div[2]/section/div[2]/ul/li[12]/a\")\n",
    "next_button.click()\n",
    "time.sleep(5)"
   ]
  },
  {
   "cell_type": "code",
   "execution_count": 51,
   "id": "ba6a6d27",
   "metadata": {},
   "outputs": [],
   "source": [
    "sr_no=[]\n",
    "for k in range(1,51):\n",
    "    sr_no.append(k)"
   ]
  },
  {
   "cell_type": "code",
   "execution_count": 52,
   "id": "33025c8f",
   "metadata": {
    "scrolled": true
   },
   "outputs": [],
   "source": [
    "# check complete data frame\n",
    "pd.set_option(\"display.max_rows\", None, \"display.max_columns\", None)"
   ]
  },
  {
   "cell_type": "code",
   "execution_count": 53,
   "id": "0d7ed693",
   "metadata": {},
   "outputs": [
    {
     "name": "stdout",
     "output_type": "stream",
     "text": [
      "50 50 50\n"
     ]
    }
   ],
   "source": [
    "print(len(brand), len(product), len(price))"
   ]
  },
  {
   "cell_type": "code",
   "execution_count": 54,
   "id": "3da63f37",
   "metadata": {},
   "outputs": [
    {
     "data": {
      "text/html": [
       "<div>\n",
       "<style scoped>\n",
       "    .dataframe tbody tr th:only-of-type {\n",
       "        vertical-align: middle;\n",
       "    }\n",
       "\n",
       "    .dataframe tbody tr th {\n",
       "        vertical-align: top;\n",
       "    }\n",
       "\n",
       "    .dataframe thead th {\n",
       "        text-align: right;\n",
       "    }\n",
       "</style>\n",
       "<table border=\"1\" class=\"dataframe\">\n",
       "  <thead>\n",
       "    <tr style=\"text-align: right;\">\n",
       "      <th></th>\n",
       "      <th>Brand</th>\n",
       "      <th>Product description</th>\n",
       "      <th>Price</th>\n",
       "    </tr>\n",
       "  </thead>\n",
       "  <tbody>\n",
       "    <tr>\n",
       "      <th>1</th>\n",
       "      <td>Nike</td>\n",
       "      <td>Men DOWNSHIFTER11 Running Shoe</td>\n",
       "      <td>3395</td>\n",
       "    </tr>\n",
       "    <tr>\n",
       "      <th>2</th>\n",
       "      <td>PUMA Motorsport</td>\n",
       "      <td>Unisex Ferrari Neo Cat Sneaker</td>\n",
       "      <td>2799</td>\n",
       "    </tr>\n",
       "    <tr>\n",
       "      <th>3</th>\n",
       "      <td>ADIDAS</td>\n",
       "      <td>Men Herlz Running Shoes</td>\n",
       "      <td>1999</td>\n",
       "    </tr>\n",
       "    <tr>\n",
       "      <th>4</th>\n",
       "      <td>Red Tape</td>\n",
       "      <td>Men Walking Shoes</td>\n",
       "      <td>1469</td>\n",
       "    </tr>\n",
       "    <tr>\n",
       "      <th>5</th>\n",
       "      <td>Eego Italy</td>\n",
       "      <td>Men Trekking Shoes</td>\n",
       "      <td>987</td>\n",
       "    </tr>\n",
       "    <tr>\n",
       "      <th>6</th>\n",
       "      <td>Red Tape</td>\n",
       "      <td>Women Walking Shoes</td>\n",
       "      <td>1259</td>\n",
       "    </tr>\n",
       "    <tr>\n",
       "      <th>7</th>\n",
       "      <td>Red Tape</td>\n",
       "      <td>Men Running Shoes</td>\n",
       "      <td>1649</td>\n",
       "    </tr>\n",
       "    <tr>\n",
       "      <th>8</th>\n",
       "      <td>Puma</td>\n",
       "      <td>Eternity Nitro Running Shoes</td>\n",
       "      <td>11049</td>\n",
       "    </tr>\n",
       "    <tr>\n",
       "      <th>9</th>\n",
       "      <td>Puma</td>\n",
       "      <td>Men Black Sneakers</td>\n",
       "      <td>2024</td>\n",
       "    </tr>\n",
       "    <tr>\n",
       "      <th>10</th>\n",
       "      <td>Nike</td>\n",
       "      <td>Kids REVOLUTION 4 Shoes</td>\n",
       "      <td>1299</td>\n",
       "    </tr>\n",
       "    <tr>\n",
       "      <th>11</th>\n",
       "      <td>Nike</td>\n",
       "      <td>Men RENEW RIDE 3 Running Shoes</td>\n",
       "      <td>5350</td>\n",
       "    </tr>\n",
       "    <tr>\n",
       "      <th>12</th>\n",
       "      <td>TWIN TOES</td>\n",
       "      <td>Women Sports Shoes</td>\n",
       "      <td>895</td>\n",
       "    </tr>\n",
       "    <tr>\n",
       "      <th>13</th>\n",
       "      <td>Nike</td>\n",
       "      <td>Men React Infinity 3 Running</td>\n",
       "      <td>11895</td>\n",
       "    </tr>\n",
       "    <tr>\n",
       "      <th>14</th>\n",
       "      <td>Roadster</td>\n",
       "      <td>Men Sneakers</td>\n",
       "      <td>872</td>\n",
       "    </tr>\n",
       "    <tr>\n",
       "      <th>15</th>\n",
       "      <td>Red Tape</td>\n",
       "      <td>Men Walking Shoes</td>\n",
       "      <td>1949</td>\n",
       "    </tr>\n",
       "    <tr>\n",
       "      <th>16</th>\n",
       "      <td>Sparx</td>\n",
       "      <td>Men Running Shoes</td>\n",
       "      <td>1022</td>\n",
       "    </tr>\n",
       "    <tr>\n",
       "      <th>17</th>\n",
       "      <td>Red Tape</td>\n",
       "      <td>Men Walking Shoes</td>\n",
       "      <td>1589</td>\n",
       "    </tr>\n",
       "    <tr>\n",
       "      <th>18</th>\n",
       "      <td>MENGLER</td>\n",
       "      <td>Men Walking Shoes</td>\n",
       "      <td>679</td>\n",
       "    </tr>\n",
       "    <tr>\n",
       "      <th>19</th>\n",
       "      <td>Nabaiji By Decathlon</td>\n",
       "      <td>Unisex Aqua Aerobics Shoes</td>\n",
       "      <td>899</td>\n",
       "    </tr>\n",
       "    <tr>\n",
       "      <th>20</th>\n",
       "      <td>Shoetopia</td>\n",
       "      <td>Women Walking Shoes</td>\n",
       "      <td>792</td>\n",
       "    </tr>\n",
       "    <tr>\n",
       "      <th>21</th>\n",
       "      <td>ADIDAS</td>\n",
       "      <td>Men Seize The Street Run Shoes</td>\n",
       "      <td>3654</td>\n",
       "    </tr>\n",
       "    <tr>\n",
       "      <th>22</th>\n",
       "      <td>Puma</td>\n",
       "      <td>Men Enzo Running Shoes</td>\n",
       "      <td>2749</td>\n",
       "    </tr>\n",
       "    <tr>\n",
       "      <th>23</th>\n",
       "      <td>Red Tape</td>\n",
       "      <td>Men Walking Shoes</td>\n",
       "      <td>1649</td>\n",
       "    </tr>\n",
       "    <tr>\n",
       "      <th>24</th>\n",
       "      <td>Killer</td>\n",
       "      <td>Men Woven Design Slip-On Sneakers</td>\n",
       "      <td>749</td>\n",
       "    </tr>\n",
       "    <tr>\n",
       "      <th>25</th>\n",
       "      <td>Sir Corbett</td>\n",
       "      <td>Semi-Formal Shoes</td>\n",
       "      <td>914</td>\n",
       "    </tr>\n",
       "    <tr>\n",
       "      <th>26</th>\n",
       "      <td>Fentacia</td>\n",
       "      <td>Wedge Sandals</td>\n",
       "      <td>799</td>\n",
       "    </tr>\n",
       "    <tr>\n",
       "      <th>27</th>\n",
       "      <td>HIGHLANDER</td>\n",
       "      <td>Men Sneakers</td>\n",
       "      <td>995</td>\n",
       "    </tr>\n",
       "    <tr>\n",
       "      <th>28</th>\n",
       "      <td>Puma</td>\n",
       "      <td>Men SOFTRIDE Rift Shoes</td>\n",
       "      <td>2924</td>\n",
       "    </tr>\n",
       "    <tr>\n",
       "      <th>29</th>\n",
       "      <td>Puma</td>\n",
       "      <td>Women Sneakers</td>\n",
       "      <td>1924</td>\n",
       "    </tr>\n",
       "    <tr>\n",
       "      <th>30</th>\n",
       "      <td>Red Tape</td>\n",
       "      <td>Men Walking Shoes</td>\n",
       "      <td>1889</td>\n",
       "    </tr>\n",
       "    <tr>\n",
       "      <th>31</th>\n",
       "      <td>ADIDAS</td>\n",
       "      <td>Men Lite Racer Cln 2.0 Running</td>\n",
       "      <td>2799</td>\n",
       "    </tr>\n",
       "    <tr>\n",
       "      <th>32</th>\n",
       "      <td>Puma</td>\n",
       "      <td>Men Running Shoes</td>\n",
       "      <td>1749</td>\n",
       "    </tr>\n",
       "    <tr>\n",
       "      <th>33</th>\n",
       "      <td>Provogue</td>\n",
       "      <td>Men Black Solid Formal Debys</td>\n",
       "      <td>899</td>\n",
       "    </tr>\n",
       "    <tr>\n",
       "      <th>34</th>\n",
       "      <td>Red Tape</td>\n",
       "      <td>Women Walking Shoes</td>\n",
       "      <td>1529</td>\n",
       "    </tr>\n",
       "    <tr>\n",
       "      <th>35</th>\n",
       "      <td>HIGHLANDER</td>\n",
       "      <td>Men Sneakers</td>\n",
       "      <td>995</td>\n",
       "    </tr>\n",
       "    <tr>\n",
       "      <th>36</th>\n",
       "      <td>Red Tape</td>\n",
       "      <td>Men Walking Shoes</td>\n",
       "      <td>1589</td>\n",
       "    </tr>\n",
       "    <tr>\n",
       "      <th>37</th>\n",
       "      <td>Killer</td>\n",
       "      <td>Men Woven Design Sneakers</td>\n",
       "      <td>1149</td>\n",
       "    </tr>\n",
       "    <tr>\n",
       "      <th>38</th>\n",
       "      <td>Nike</td>\n",
       "      <td>Men VENTURE RUNNER Sneakers</td>\n",
       "      <td>4121</td>\n",
       "    </tr>\n",
       "    <tr>\n",
       "      <th>39</th>\n",
       "      <td>Roadster</td>\n",
       "      <td>Men Solid Slip-On Sneakers</td>\n",
       "      <td>1199</td>\n",
       "    </tr>\n",
       "    <tr>\n",
       "      <th>40</th>\n",
       "      <td>INVICTUS</td>\n",
       "      <td>Men Solid Formal Oxford Shoes</td>\n",
       "      <td>928</td>\n",
       "    </tr>\n",
       "    <tr>\n",
       "      <th>41</th>\n",
       "      <td>Puma</td>\n",
       "      <td>Men Lex Training Shoes</td>\n",
       "      <td>4799</td>\n",
       "    </tr>\n",
       "    <tr>\n",
       "      <th>42</th>\n",
       "      <td>Red Tape</td>\n",
       "      <td>Men Solid Formal Slip On Loafers</td>\n",
       "      <td>2099</td>\n",
       "    </tr>\n",
       "    <tr>\n",
       "      <th>43</th>\n",
       "      <td>Campus</td>\n",
       "      <td>Men Walking Shoes</td>\n",
       "      <td>934</td>\n",
       "    </tr>\n",
       "    <tr>\n",
       "      <th>44</th>\n",
       "      <td>one8 x PUMA</td>\n",
       "      <td>Men Solid Sneakers</td>\n",
       "      <td>3374</td>\n",
       "    </tr>\n",
       "    <tr>\n",
       "      <th>45</th>\n",
       "      <td>Red Tape</td>\n",
       "      <td>Men Walking Shoes</td>\n",
       "      <td>1889</td>\n",
       "    </tr>\n",
       "    <tr>\n",
       "      <th>46</th>\n",
       "      <td>Mactree</td>\n",
       "      <td>Men Solid Leather Loafers</td>\n",
       "      <td>898</td>\n",
       "    </tr>\n",
       "    <tr>\n",
       "      <th>47</th>\n",
       "      <td>Fentacia</td>\n",
       "      <td>Men Woven Flat Boots</td>\n",
       "      <td>899</td>\n",
       "    </tr>\n",
       "    <tr>\n",
       "      <th>48</th>\n",
       "      <td>U.S. Polo Assn.</td>\n",
       "      <td>Men PU Loafers</td>\n",
       "      <td>1919</td>\n",
       "    </tr>\n",
       "    <tr>\n",
       "      <th>49</th>\n",
       "      <td>HRX by Hrithik Roshan</td>\n",
       "      <td>Men Alpha Running shoe</td>\n",
       "      <td>2159</td>\n",
       "    </tr>\n",
       "    <tr>\n",
       "      <th>50</th>\n",
       "      <td>Nike</td>\n",
       "      <td>Women WINFLO 8 Running Shoes</td>\n",
       "      <td>7050</td>\n",
       "    </tr>\n",
       "  </tbody>\n",
       "</table>\n",
       "</div>"
      ],
      "text/plain": [
       "                    Brand                Product description  Price\n",
       "1                    Nike     Men DOWNSHIFTER11 Running Shoe   3395\n",
       "2         PUMA Motorsport     Unisex Ferrari Neo Cat Sneaker   2799\n",
       "3                  ADIDAS            Men Herlz Running Shoes   1999\n",
       "4                Red Tape                  Men Walking Shoes   1469\n",
       "5              Eego Italy                 Men Trekking Shoes    987\n",
       "6                Red Tape                Women Walking Shoes   1259\n",
       "7                Red Tape                  Men Running Shoes   1649\n",
       "8                    Puma       Eternity Nitro Running Shoes  11049\n",
       "9                    Puma                 Men Black Sneakers   2024\n",
       "10                   Nike            Kids REVOLUTION 4 Shoes   1299\n",
       "11                   Nike     Men RENEW RIDE 3 Running Shoes   5350\n",
       "12              TWIN TOES                 Women Sports Shoes    895\n",
       "13                   Nike       Men React Infinity 3 Running  11895\n",
       "14               Roadster                       Men Sneakers    872\n",
       "15               Red Tape                  Men Walking Shoes   1949\n",
       "16                  Sparx                  Men Running Shoes   1022\n",
       "17               Red Tape                  Men Walking Shoes   1589\n",
       "18                MENGLER                  Men Walking Shoes    679\n",
       "19   Nabaiji By Decathlon         Unisex Aqua Aerobics Shoes    899\n",
       "20              Shoetopia                Women Walking Shoes    792\n",
       "21                 ADIDAS     Men Seize The Street Run Shoes   3654\n",
       "22                   Puma             Men Enzo Running Shoes   2749\n",
       "23               Red Tape                  Men Walking Shoes   1649\n",
       "24                 Killer  Men Woven Design Slip-On Sneakers    749\n",
       "25            Sir Corbett                  Semi-Formal Shoes    914\n",
       "26               Fentacia                      Wedge Sandals    799\n",
       "27             HIGHLANDER                       Men Sneakers    995\n",
       "28                   Puma            Men SOFTRIDE Rift Shoes   2924\n",
       "29                   Puma                     Women Sneakers   1924\n",
       "30               Red Tape                  Men Walking Shoes   1889\n",
       "31                 ADIDAS     Men Lite Racer Cln 2.0 Running   2799\n",
       "32                   Puma                  Men Running Shoes   1749\n",
       "33               Provogue       Men Black Solid Formal Debys    899\n",
       "34               Red Tape                Women Walking Shoes   1529\n",
       "35             HIGHLANDER                       Men Sneakers    995\n",
       "36               Red Tape                  Men Walking Shoes   1589\n",
       "37                 Killer          Men Woven Design Sneakers   1149\n",
       "38                   Nike        Men VENTURE RUNNER Sneakers   4121\n",
       "39               Roadster         Men Solid Slip-On Sneakers   1199\n",
       "40               INVICTUS      Men Solid Formal Oxford Shoes    928\n",
       "41                   Puma             Men Lex Training Shoes   4799\n",
       "42               Red Tape   Men Solid Formal Slip On Loafers   2099\n",
       "43                 Campus                  Men Walking Shoes    934\n",
       "44            one8 x PUMA                 Men Solid Sneakers   3374\n",
       "45               Red Tape                  Men Walking Shoes   1889\n",
       "46                Mactree          Men Solid Leather Loafers    898\n",
       "47               Fentacia               Men Woven Flat Boots    899\n",
       "48        U.S. Polo Assn.                     Men PU Loafers   1919\n",
       "49  HRX by Hrithik Roshan             Men Alpha Running shoe   2159\n",
       "50                   Nike       Women WINFLO 8 Running Shoes   7050"
      ]
     },
     "execution_count": 54,
     "metadata": {},
     "output_type": "execute_result"
    }
   ],
   "source": [
    "df5 = pd.DataFrame ({'Brand':brand[0 : 50], 'Product description':product[0 : 50], 'Price': price[0 : 50]}, index=sr_no)\n",
    "df5"
   ]
  },
  {
   "cell_type": "markdown",
   "id": "4c7d3ca0",
   "metadata": {},
   "source": [
    "## Go to webpage https://www.amazon.in/ . Enter “Laptop” in the search field and then click the search icon."
   ]
  },
  {
   "cell_type": "code",
   "execution_count": 91,
   "id": "75b0765f",
   "metadata": {},
   "outputs": [],
   "source": [
    "# import libraries\n",
    "\n",
    "import selenium\n",
    "import pandas as pd\n",
    "from selenium import webdriver\n",
    "from selenium.webdriver.common.by import By\n",
    "import time"
   ]
  },
  {
   "cell_type": "code",
   "execution_count": 92,
   "id": "2b9c241b",
   "metadata": {},
   "outputs": [
    {
     "name": "stderr",
     "output_type": "stream",
     "text": [
      "C:\\Users\\DINESH~1\\AppData\\Local\\Temp/ipykernel_21900/2924793791.py:3: DeprecationWarning: executable_path has been deprecated, please pass in a Service object\n",
      "  driver = webdriver.Chrome('chromedriver.exe')\n"
     ]
    }
   ],
   "source": [
    "# web driver to be used, needs to be connected\n",
    "\n",
    "driver = webdriver.Chrome('chromedriver.exe')"
   ]
  },
  {
   "cell_type": "code",
   "execution_count": 93,
   "id": "7faeea48",
   "metadata": {},
   "outputs": [],
   "source": [
    "# open the required url\n",
    "url5 = 'https://www.amazon.in/'\n",
    "driver.get(url5)"
   ]
  },
  {
   "cell_type": "code",
   "execution_count": 94,
   "id": "469d7e52",
   "metadata": {},
   "outputs": [],
   "source": [
    "search_field = driver.find_element(By.XPATH, \"/html/body/div[1]/header/div/div[1]/div[2]/div/form/div[2]/div[1]/input\")\n",
    "search_field.send_keys(\"Laptop\")"
   ]
  },
  {
   "cell_type": "code",
   "execution_count": 95,
   "id": "6c40bd02",
   "metadata": {},
   "outputs": [],
   "source": [
    "search_b3 = driver.find_element(By.XPATH , '/html/body/div[1]/header/div/div[1]/div[2]/div/form/div[3]/div/span/input')\n",
    "search_b3.click()"
   ]
  },
  {
   "cell_type": "code",
   "execution_count": 96,
   "id": "36105b77",
   "metadata": {},
   "outputs": [],
   "source": [
    "# apply CPU filter\n",
    "\n",
    "search_intel = driver.find_element(By.XPATH, '/html/body/div[1]/div[2]/div[1]/div[2]/div/div[3]/span/div[1]/div/div/div[6]/ul[2]/li[12]/span/a/div/label/i').click()"
   ]
  },
  {
   "cell_type": "code",
   "execution_count": 97,
   "id": "907118ef",
   "metadata": {},
   "outputs": [],
   "source": [
    "titles = []\n",
    "rating = []\n",
    "price = []"
   ]
  },
  {
   "cell_type": "code",
   "execution_count": 98,
   "id": "cc57db53",
   "metadata": {},
   "outputs": [],
   "source": [
    "#Lets extract all the tags with titles\n",
    "title_tags = driver.find_elements(By.XPATH, \"//h2[@class='a-size-mini a-spacing-none a-color-base s-line-clamp-2']\")"
   ]
  },
  {
   "cell_type": "code",
   "execution_count": 99,
   "id": "afa56d19",
   "metadata": {},
   "outputs": [],
   "source": [
    "#Now the text title is inside tag above\n",
    "for i in title_tags[ : 10]:\n",
    "    title=i.text\n",
    "    titles.append(title)"
   ]
  },
  {
   "cell_type": "code",
   "execution_count": 100,
   "id": "5bb13160",
   "metadata": {},
   "outputs": [],
   "source": [
    "#Lets extract all tags having the ratings\n",
    "rating_tags = driver.find_elements(By.XPATH, \"//span[@class='a-icon-alt']\")"
   ]
  },
  {
   "cell_type": "code",
   "execution_count": 101,
   "id": "8394063d",
   "metadata": {},
   "outputs": [],
   "source": [
    "for i in rating_tags[ : 10]:\n",
    "    rate=i.text\n",
    "    rating.append(\"Not Available\")"
   ]
  },
  {
   "cell_type": "code",
   "execution_count": 102,
   "id": "08fad554",
   "metadata": {},
   "outputs": [],
   "source": [
    "# extract all tags with price\n",
    "price_tags = driver.find_elements(By.XPATH, \"//span[@class='a-price-whole']\")"
   ]
  },
  {
   "cell_type": "code",
   "execution_count": 103,
   "id": "7622c71b",
   "metadata": {},
   "outputs": [],
   "source": [
    "for i in price_tags[ : 10]:\n",
    "    pr = i.text\n",
    "    price.append(pr)"
   ]
  },
  {
   "cell_type": "code",
   "execution_count": 104,
   "id": "b4b5fad7",
   "metadata": {},
   "outputs": [],
   "source": [
    "sr_no=[]\n",
    "for l in range(1 , 11):\n",
    "    sr_no.append(l)"
   ]
  },
  {
   "cell_type": "code",
   "execution_count": 105,
   "id": "b4fcc846",
   "metadata": {},
   "outputs": [
    {
     "data": {
      "text/html": [
       "<div>\n",
       "<style scoped>\n",
       "    .dataframe tbody tr th:only-of-type {\n",
       "        vertical-align: middle;\n",
       "    }\n",
       "\n",
       "    .dataframe tbody tr th {\n",
       "        vertical-align: top;\n",
       "    }\n",
       "\n",
       "    .dataframe thead th {\n",
       "        text-align: right;\n",
       "    }\n",
       "</style>\n",
       "<table border=\"1\" class=\"dataframe\">\n",
       "  <thead>\n",
       "    <tr style=\"text-align: right;\">\n",
       "      <th></th>\n",
       "      <th>Title</th>\n",
       "      <th>Rating</th>\n",
       "      <th>Price</th>\n",
       "    </tr>\n",
       "  </thead>\n",
       "  <tbody>\n",
       "    <tr>\n",
       "      <th>1</th>\n",
       "      <td>ASUS TUF Gaming F15 (2021), 15.6\" (39.62 cms) ...</td>\n",
       "      <td>Not Available</td>\n",
       "      <td>89,990</td>\n",
       "    </tr>\n",
       "    <tr>\n",
       "      <th>2</th>\n",
       "      <td>Hp Pavilion 15 12Th Gen Intel Core I7 16Gb Sdr...</td>\n",
       "      <td>Not Available</td>\n",
       "      <td>87,900</td>\n",
       "    </tr>\n",
       "    <tr>\n",
       "      <th>3</th>\n",
       "      <td>Lenovo ThinkBook 15 Intel 11th Gen Core i7 15....</td>\n",
       "      <td>Not Available</td>\n",
       "      <td>86,990</td>\n",
       "    </tr>\n",
       "    <tr>\n",
       "      <th>4</th>\n",
       "      <td>Infinix INBook X1 Pro Core i7 10th Gen - (16 G...</td>\n",
       "      <td>Not Available</td>\n",
       "      <td>53,999</td>\n",
       "    </tr>\n",
       "    <tr>\n",
       "      <th>5</th>\n",
       "      <td>Samsung Galaxy Book2 Intel 12th Gen core i7 39...</td>\n",
       "      <td>Not Available</td>\n",
       "      <td>79,990</td>\n",
       "    </tr>\n",
       "    <tr>\n",
       "      <th>6</th>\n",
       "      <td>LG Gram 16 Intel Evo 11th Gen i7 Thin &amp; Light ...</td>\n",
       "      <td>Not Available</td>\n",
       "      <td>85,499</td>\n",
       "    </tr>\n",
       "    <tr>\n",
       "      <th>7</th>\n",
       "      <td>Hp Pavilion X360 11Th Gen Intel Core I7 14 Inc...</td>\n",
       "      <td>Not Available</td>\n",
       "      <td>82,990</td>\n",
       "    </tr>\n",
       "    <tr>\n",
       "      <th>8</th>\n",
       "      <td>Lenovo IdeaPad Slim 5 Pro Intel Core i7 11th G...</td>\n",
       "      <td>Not Available</td>\n",
       "      <td>75,990</td>\n",
       "    </tr>\n",
       "    <tr>\n",
       "      <th>9</th>\n",
       "      <td>HP Envy 11th Gen Intel Evo Core i7 14 inch(35....</td>\n",
       "      <td>Not Available</td>\n",
       "      <td>99,400</td>\n",
       "    </tr>\n",
       "    <tr>\n",
       "      <th>10</th>\n",
       "      <td>ASUS Vivobook 15, 15.6-inch (39.62 cms) FHD, I...</td>\n",
       "      <td>Not Available</td>\n",
       "      <td>57,890</td>\n",
       "    </tr>\n",
       "  </tbody>\n",
       "</table>\n",
       "</div>"
      ],
      "text/plain": [
       "                                                Title         Rating   Price\n",
       "1   ASUS TUF Gaming F15 (2021), 15.6\" (39.62 cms) ...  Not Available  89,990\n",
       "2   Hp Pavilion 15 12Th Gen Intel Core I7 16Gb Sdr...  Not Available  87,900\n",
       "3   Lenovo ThinkBook 15 Intel 11th Gen Core i7 15....  Not Available  86,990\n",
       "4   Infinix INBook X1 Pro Core i7 10th Gen - (16 G...  Not Available  53,999\n",
       "5   Samsung Galaxy Book2 Intel 12th Gen core i7 39...  Not Available  79,990\n",
       "6   LG Gram 16 Intel Evo 11th Gen i7 Thin & Light ...  Not Available  85,499\n",
       "7   Hp Pavilion X360 11Th Gen Intel Core I7 14 Inc...  Not Available  82,990\n",
       "8   Lenovo IdeaPad Slim 5 Pro Intel Core i7 11th G...  Not Available  75,990\n",
       "9   HP Envy 11th Gen Intel Evo Core i7 14 inch(35....  Not Available  99,400\n",
       "10  ASUS Vivobook 15, 15.6-inch (39.62 cms) FHD, I...  Not Available  57,890"
      ]
     },
     "execution_count": 105,
     "metadata": {},
     "output_type": "execute_result"
    }
   ],
   "source": [
    "# check and print the data frame\n",
    "pd.set_option(\"display.max_rows\", None, \"display.max_columns\", None)\n",
    "df6 = pd.DataFrame({'Title':titles, 'Rating':rating, 'Price':price}, index = sr_no)\n",
    "df6"
   ]
  },
  {
   "cell_type": "markdown",
   "id": "bea62ea2",
   "metadata": {},
   "source": [
    "## Write a python program to scrape data for first 10 job results for Data Scientist Designation in Noida location."
   ]
  },
  {
   "cell_type": "code",
   "execution_count": 106,
   "id": "102ebb2f",
   "metadata": {},
   "outputs": [],
   "source": [
    "# import libraries\n",
    "\n",
    "import selenium\n",
    "import pandas as pd\n",
    "from selenium import webdriver\n",
    "from selenium.webdriver.common.by import By\n",
    "import time"
   ]
  },
  {
   "cell_type": "code",
   "execution_count": 107,
   "id": "e198338f",
   "metadata": {},
   "outputs": [
    {
     "name": "stderr",
     "output_type": "stream",
     "text": [
      "C:\\Users\\DINESH~1\\AppData\\Local\\Temp/ipykernel_21900/2924793791.py:3: DeprecationWarning: executable_path has been deprecated, please pass in a Service object\n",
      "  driver = webdriver.Chrome('chromedriver.exe')\n"
     ]
    }
   ],
   "source": [
    "# web driver to be used, needs to be connected\n",
    "\n",
    "driver = webdriver.Chrome('chromedriver.exe')"
   ]
  },
  {
   "cell_type": "code",
   "execution_count": 108,
   "id": "1c2bfd92",
   "metadata": {},
   "outputs": [],
   "source": [
    "# open the required url\n",
    "url6 = 'https://www.ambitionbox.com/'\n",
    "driver.get(url6)"
   ]
  },
  {
   "cell_type": "code",
   "execution_count": 109,
   "id": "6dab4468",
   "metadata": {},
   "outputs": [],
   "source": [
    "# click on job option\n",
    "job_option = driver.find_element(By.XPATH, \"/html/body/div[1]/nav/nav/a[6]\")\n",
    "job_option.click()"
   ]
  },
  {
   "cell_type": "code",
   "execution_count": 110,
   "id": "114a7eae",
   "metadata": {},
   "outputs": [],
   "source": [
    "#find element in search bar\n",
    "search_field = driver.find_element(By.XPATH, \"/html/body/div/div/div/div[2]/div[1]/div[1]/div/div/div/div/span/input\")\n",
    "search_field.send_keys(\"Data Scientist\")"
   ]
  },
  {
   "cell_type": "code",
   "execution_count": 112,
   "id": "0ee048b1",
   "metadata": {},
   "outputs": [],
   "source": [
    "#click search icon                  \n",
    "search_b4 = driver.find_element(By.XPATH, \"/html/body/div/div/div/div[2]/div[1]/div[1]/div/div/div/button/span\").click()"
   ]
  },
  {
   "cell_type": "code",
   "execution_count": 113,
   "id": "9c4b9ca5",
   "metadata": {},
   "outputs": [],
   "source": [
    "#click location icon \n",
    "loc_icon=driver.find_element(By.XPATH, \"/html/body/div/div/div/div[2]/div[1]/div[2]/div[1]/div/div/div/div[2]/div[1]/p\").click()"
   ]
  },
  {
   "cell_type": "code",
   "execution_count": 114,
   "id": "e597e293",
   "metadata": {},
   "outputs": [],
   "source": [
    "#finding location and sending NOIDA as key\n",
    "search_fields=driver.find_element(By.XPATH, \"/html/body/div/div/div/div[2]/div[1]/div[2]/div[1]/div/div/div/div[2]/div[2]/div/div[2]/input\")\n",
    "search_fields.send_keys(\"Noida\")"
   ]
  },
  {
   "cell_type": "code",
   "execution_count": 115,
   "id": "5ad579c0",
   "metadata": {},
   "outputs": [],
   "source": [
    "#clicking on Noida\n",
    "search=driver.find_element(By.XPATH, \"/html/body/div/div/div/div[2]/div[1]/div[2]/div[1]/div/div/div/div[2]/div[2]/div/div[3]/div[1]/div[1]/div\").click()"
   ]
  },
  {
   "cell_type": "code",
   "execution_count": 116,
   "id": "5bc0e6d8",
   "metadata": {},
   "outputs": [],
   "source": [
    "company = []\n",
    "time_period = []\n",
    "rating = []"
   ]
  },
  {
   "cell_type": "code",
   "execution_count": 117,
   "id": "db96ea05",
   "metadata": {},
   "outputs": [],
   "source": [
    "# extract all tags having the company names\n",
    "company_tags = driver.find_elements(By.XPATH, \"//p[@class='company body-medium']\")"
   ]
  },
  {
   "cell_type": "code",
   "execution_count": 118,
   "id": "44a64240",
   "metadata": {},
   "outputs": [],
   "source": [
    "# now text on company names is in above tag\n",
    "for i in company_tags[0:10]:\n",
    "    title=i.text\n",
    "    company.append(title)"
   ]
  },
  {
   "cell_type": "code",
   "execution_count": 119,
   "id": "5d26516d",
   "metadata": {},
   "outputs": [],
   "source": [
    "# extract all tags having time period\n",
    "time = driver.find_elements(By.XPATH, \"//div[@class='other-info']/span[1]\")"
   ]
  },
  {
   "cell_type": "code",
   "execution_count": 120,
   "id": "587778da",
   "metadata": {},
   "outputs": [],
   "source": [
    "# time period is inside the tag above\n",
    "for i in time[0 : 10]:\n",
    "    t=i.text\n",
    "    time_period.append(t)"
   ]
  },
  {
   "cell_type": "code",
   "execution_count": 121,
   "id": "d99163e3",
   "metadata": {},
   "outputs": [],
   "source": [
    "# extract all tags having rating\n",
    "rate_tags = driver.find_elements(By.XPATH, \"//span[@class='body-small']\")"
   ]
  },
  {
   "cell_type": "code",
   "execution_count": 122,
   "id": "d95edd3a",
   "metadata": {},
   "outputs": [],
   "source": [
    "#Now the text of the rating is inside the tag extracted above\n",
    "for i in rate_tags[0 : 10]:\n",
    "    r=i.text\n",
    "    rating.append(r)"
   ]
  },
  {
   "cell_type": "code",
   "execution_count": 123,
   "id": "655b9dac",
   "metadata": {},
   "outputs": [],
   "source": [
    "sr_no=[]\n",
    "for k in range(1 , 11):\n",
    "    sr_no.append(k)"
   ]
  },
  {
   "cell_type": "code",
   "execution_count": 124,
   "id": "e1bd5dcc",
   "metadata": {
    "scrolled": true
   },
   "outputs": [
    {
     "data": {
      "text/html": [
       "<div>\n",
       "<style scoped>\n",
       "    .dataframe tbody tr th:only-of-type {\n",
       "        vertical-align: middle;\n",
       "    }\n",
       "\n",
       "    .dataframe tbody tr th {\n",
       "        vertical-align: top;\n",
       "    }\n",
       "\n",
       "    .dataframe thead th {\n",
       "        text-align: right;\n",
       "    }\n",
       "</style>\n",
       "<table border=\"1\" class=\"dataframe\">\n",
       "  <thead>\n",
       "    <tr style=\"text-align: right;\">\n",
       "      <th></th>\n",
       "      <th>Company</th>\n",
       "      <th>No. of days ago when job was posted</th>\n",
       "      <th>Rating</th>\n",
       "    </tr>\n",
       "  </thead>\n",
       "  <tbody>\n",
       "    <tr>\n",
       "      <th>1</th>\n",
       "      <td>IBM India Pvt. Limited</td>\n",
       "      <td>1d ago</td>\n",
       "      <td>4.2</td>\n",
       "    </tr>\n",
       "    <tr>\n",
       "      <th>2</th>\n",
       "      <td>IBM India Pvt. Limited</td>\n",
       "      <td>2d ago</td>\n",
       "      <td>4.2</td>\n",
       "    </tr>\n",
       "    <tr>\n",
       "      <th>3</th>\n",
       "      <td>Schneider Electric India Pvt. Ltd.</td>\n",
       "      <td>2d ago</td>\n",
       "      <td>4.2</td>\n",
       "    </tr>\n",
       "    <tr>\n",
       "      <th>4</th>\n",
       "      <td>IBM India Pvt. Limited</td>\n",
       "      <td>2d ago</td>\n",
       "      <td>4.2</td>\n",
       "    </tr>\n",
       "    <tr>\n",
       "      <th>5</th>\n",
       "      <td>IBM India Pvt. Limited</td>\n",
       "      <td>2d ago</td>\n",
       "      <td>4.2</td>\n",
       "    </tr>\n",
       "    <tr>\n",
       "      <th>6</th>\n",
       "      <td>Walmart Labs</td>\n",
       "      <td>2d ago</td>\n",
       "      <td>4.2</td>\n",
       "    </tr>\n",
       "    <tr>\n",
       "      <th>7</th>\n",
       "      <td>J.P. Morgan Services India Private Limited</td>\n",
       "      <td>6d ago</td>\n",
       "      <td>4.2</td>\n",
       "    </tr>\n",
       "    <tr>\n",
       "      <th>8</th>\n",
       "      <td>Shell India Markets Private Limited</td>\n",
       "      <td>2d ago</td>\n",
       "      <td>4.4</td>\n",
       "    </tr>\n",
       "    <tr>\n",
       "      <th>9</th>\n",
       "      <td>IBM India Pvt. Limited</td>\n",
       "      <td>5d ago</td>\n",
       "      <td>4.2</td>\n",
       "    </tr>\n",
       "    <tr>\n",
       "      <th>10</th>\n",
       "      <td>IBM India Pvt. Limited</td>\n",
       "      <td>5d ago</td>\n",
       "      <td>4.2</td>\n",
       "    </tr>\n",
       "  </tbody>\n",
       "</table>\n",
       "</div>"
      ],
      "text/plain": [
       "                                       Company  \\\n",
       "1                       IBM India Pvt. Limited   \n",
       "2                       IBM India Pvt. Limited   \n",
       "3           Schneider Electric India Pvt. Ltd.   \n",
       "4                       IBM India Pvt. Limited   \n",
       "5                       IBM India Pvt. Limited   \n",
       "6                                 Walmart Labs   \n",
       "7   J.P. Morgan Services India Private Limited   \n",
       "8          Shell India Markets Private Limited   \n",
       "9                       IBM India Pvt. Limited   \n",
       "10                      IBM India Pvt. Limited   \n",
       "\n",
       "   No. of days ago when job was posted Rating  \n",
       "1                               1d ago    4.2  \n",
       "2                               2d ago    4.2  \n",
       "3                               2d ago    4.2  \n",
       "4                               2d ago    4.2  \n",
       "5                               2d ago    4.2  \n",
       "6                               2d ago    4.2  \n",
       "7                               6d ago    4.2  \n",
       "8                               2d ago    4.4  \n",
       "9                               5d ago    4.2  \n",
       "10                              5d ago    4.2  "
      ]
     },
     "execution_count": 124,
     "metadata": {},
     "output_type": "execute_result"
    }
   ],
   "source": [
    "pd.set_option(\"display.max_rows\", None, \"display.max_columns\", None)\n",
    "df7 = pd.DataFrame({'Company':company, 'No. of days ago when job was posted':time_period, 'Rating':rating}, index=sr_no)\n",
    "df7"
   ]
  },
  {
   "cell_type": "markdown",
   "id": "324fc6ec",
   "metadata": {},
   "source": [
    "## Write a python program to scrape the salary data for Data Scientist designation."
   ]
  },
  {
   "cell_type": "code",
   "execution_count": 328,
   "id": "a32dc738",
   "metadata": {},
   "outputs": [],
   "source": [
    "# import libraries\n",
    "\n",
    "import selenium\n",
    "import pandas as pd\n",
    "from selenium import webdriver\n",
    "from selenium.webdriver.common.by import By\n",
    "import time"
   ]
  },
  {
   "cell_type": "code",
   "execution_count": 357,
   "id": "629ccae0",
   "metadata": {},
   "outputs": [
    {
     "name": "stderr",
     "output_type": "stream",
     "text": [
      "C:\\Users\\DINESH~1\\AppData\\Local\\Temp/ipykernel_21900/759890233.py:3: DeprecationWarning: executable_path has been deprecated, please pass in a Service object\n",
      "  driver = webdriver.Chrome('chromedriver.exe')\n"
     ]
    }
   ],
   "source": [
    "# web driver needs to be connected\n",
    "\n",
    "driver = webdriver.Chrome('chromedriver.exe')"
   ]
  },
  {
   "cell_type": "code",
   "execution_count": 358,
   "id": "3fa68de3",
   "metadata": {},
   "outputs": [],
   "source": [
    "# open ambitionbox.com website on automated window\n",
    "url7 = 'https://www.ambitionbox.com/'\n",
    "driver.get(url7)"
   ]
  },
  {
   "cell_type": "code",
   "execution_count": 359,
   "id": "b3246e7f",
   "metadata": {},
   "outputs": [],
   "source": [
    "# click on salary option                  \n",
    "salary_option = driver.find_element(By.XPATH, \"/html/body/div[1]/nav/nav/a[4]\")\n",
    "salary_option.click()"
   ]
  },
  {
   "cell_type": "code",
   "execution_count": 360,
   "id": "e0b6e5ab",
   "metadata": {},
   "outputs": [],
   "source": [
    "# find element in search bar\n",
    "search_field = driver.find_element(By.XPATH, '/html/body/div/div/div/main/section[1]/div[2]/div[1]/span/input')\n",
    "search_field.send_keys(\"Data Scientist\")"
   ]
  },
  {
   "cell_type": "code",
   "execution_count": 361,
   "id": "74ea15dc",
   "metadata": {},
   "outputs": [],
   "source": [
    "# click on Data Scientist \n",
    "ds = driver.find_element(By.XPATH, \"/html/body/div/div/div/main/section[1]/div[2]/div[1]/span/div/div/div[1]/div/div/p\")\n",
    "ds.click()"
   ]
  },
  {
   "cell_type": "code",
   "execution_count": 362,
   "id": "7ebe60ff",
   "metadata": {},
   "outputs": [],
   "source": [
    "company = []\n",
    "total_sal = []\n",
    "avg_sal = []\n",
    "min_sal = []\n",
    "max_sal = []\n",
    "experience = []   "
   ]
  },
  {
   "cell_type": "code",
   "execution_count": 363,
   "id": "ac836d59",
   "metadata": {},
   "outputs": [],
   "source": [
    "# extract all tags having company names\n",
    "company_tags = driver.find_elements(By.XPATH, \"//a[@title='name']/a\")"
   ]
  },
  {
   "cell_type": "code",
   "execution_count": 364,
   "id": "f81aad07",
   "metadata": {},
   "outputs": [],
   "source": [
    "# text of the company name is inside tag above\n",
    "for i in company_tags[0 : 10]:\n",
    "    title=i.text\n",
    "company.append(title)"
   ]
  },
  {
   "cell_type": "code",
   "execution_count": 365,
   "id": "6cc64403",
   "metadata": {},
   "outputs": [],
   "source": [
    "# extract all tags having total number of salary\n",
    "total = driver.find_elements(By.XPATH, \"/html/body/div/div/div/main/section[1]/div[2]/div[3]/div[2]/div[1]/div[1]/div/div/div/span\")"
   ]
  },
  {
   "cell_type": "code",
   "execution_count": 366,
   "id": "22c8146b",
   "metadata": {},
   "outputs": [],
   "source": [
    "# total no of salary  is inside the tag above\n",
    "for i in total[0 : 10]:\n",
    "    t=i.text.split()[2]\n",
    "    total_sal.append(''.join(t))"
   ]
  },
  {
   "cell_type": "code",
   "execution_count": 367,
   "id": "211edab8",
   "metadata": {},
   "outputs": [],
   "source": [
    "# extract all tags having average salary\n",
    "avg = driver.find_elements(By.XPATH, \"/html/body/div/div/div/main/section[1]/div[2]/div[3]/div[2]/div[1]/div[2]/div/div[1]/div/p\")"
   ]
  },
  {
   "cell_type": "code",
   "execution_count": 368,
   "id": "8a861305",
   "metadata": {},
   "outputs": [],
   "source": [
    "# average salary is inside the tag above\n",
    "for i in avg[0 : 10]:\n",
    "    r=i.text\n",
    "    avg_sal.append(r)"
   ]
  },
  {
   "cell_type": "code",
   "execution_count": 369,
   "id": "e07d0afa",
   "metadata": {},
   "outputs": [],
   "source": [
    "# extract all tags having minimum salary\n",
    "min = driver.find_elements(By.XPATH, \"/html/body/div/div/div/main/section[1]/div[2]/div[3]/div[2]/div[1]/div[2]/div/div[2]/div[1]\")"
   ]
  },
  {
   "cell_type": "code",
   "execution_count": 370,
   "id": "ac3a7589",
   "metadata": {},
   "outputs": [],
   "source": [
    "# minimum salary is inside tag above\n",
    "for i in min[0 : 10]:\n",
    "    m=i.text\n",
    "    min_sal.append(m)"
   ]
  },
  {
   "cell_type": "code",
   "execution_count": 371,
   "id": "2bf089c1",
   "metadata": {},
   "outputs": [],
   "source": [
    "# extract all tags having maximum salary\n",
    "max = driver.find_elements(By.XPATH, \"/html/body/div/div/div/main/section[1]/div[2]/div[3]/div[2]/div[1]/div[2]/div/div[2]/div[2]\")"
   ]
  },
  {
   "cell_type": "code",
   "execution_count": 372,
   "id": "7767c4c7",
   "metadata": {},
   "outputs": [],
   "source": [
    "#Now the maximum salary is inside the tag extracted above\n",
    "for i in max[0 : 10]:\n",
    "    mx=i.text\n",
    "    max_sal.append(mx)"
   ]
  },
  {
   "cell_type": "code",
   "execution_count": 373,
   "id": "d6825507",
   "metadata": {},
   "outputs": [],
   "source": [
    "# extract all tags having experience\n",
    "exp_tags = driver.find_elements(By.XPATH, \"//div[@id='sal-table']/div[2]/div[3]/div[1]/div/div/div\")"
   ]
  },
  {
   "cell_type": "code",
   "execution_count": 374,
   "id": "792c14e7",
   "metadata": {},
   "outputs": [],
   "source": [
    "# experience is inside tag above\n",
    "for i in exp_tags[0 : 10]:\n",
    "    l = len(i.text.split())\n",
    "    ex = i.text.split()[3 : l-1]\n",
    "    experience.append(' '.join(ex))"
   ]
  },
  {
   "cell_type": "code",
   "execution_count": 375,
   "id": "3a698a01",
   "metadata": {},
   "outputs": [],
   "source": [
    "sr_no=[]\n",
    "for k in range(1,11):\n",
    "    sr_no.append(k)"
   ]
  },
  {
   "cell_type": "code",
   "execution_count": 376,
   "id": "a2321276",
   "metadata": {},
   "outputs": [
    {
     "data": {
      "text/html": [
       "<div>\n",
       "<style scoped>\n",
       "    .dataframe tbody tr th:only-of-type {\n",
       "        vertical-align: middle;\n",
       "    }\n",
       "\n",
       "    .dataframe tbody tr th {\n",
       "        vertical-align: top;\n",
       "    }\n",
       "\n",
       "    .dataframe thead th {\n",
       "        text-align: right;\n",
       "    }\n",
       "</style>\n",
       "<table border=\"1\" class=\"dataframe\">\n",
       "  <thead>\n",
       "    <tr style=\"text-align: right;\">\n",
       "      <th></th>\n",
       "      <th>Company</th>\n",
       "      <th>Total Salary Record</th>\n",
       "      <th>Average Salary</th>\n",
       "      <th>Minimum Salary</th>\n",
       "      <th>Maximum Salary</th>\n",
       "      <th>Experience</th>\n",
       "    </tr>\n",
       "  </thead>\n",
       "  <tbody>\n",
       "    <tr>\n",
       "      <th>1</th>\n",
       "      <td>Walmart\\nData Scientist Salary</td>\n",
       "      <td>12</td>\n",
       "      <td>₹ 30.6L</td>\n",
       "      <td>₹ 25.0L</td>\n",
       "      <td>₹ 36.0L</td>\n",
       "      <td>(based on 15</td>\n",
       "    </tr>\n",
       "    <tr>\n",
       "      <th>2</th>\n",
       "      <td>Walmart\\nData Scientist Salary</td>\n",
       "      <td>12</td>\n",
       "      <td>₹ 30.6L</td>\n",
       "      <td>₹ 25.0L</td>\n",
       "      <td>₹ 36.0L</td>\n",
       "      <td>(based on 15</td>\n",
       "    </tr>\n",
       "    <tr>\n",
       "      <th>3</th>\n",
       "      <td>Walmart\\nData Scientist Salary</td>\n",
       "      <td>12</td>\n",
       "      <td>₹ 30.6L</td>\n",
       "      <td>₹ 25.0L</td>\n",
       "      <td>₹ 36.0L</td>\n",
       "      <td>(based on 15</td>\n",
       "    </tr>\n",
       "    <tr>\n",
       "      <th>4</th>\n",
       "      <td>Walmart\\nData Scientist Salary</td>\n",
       "      <td>12</td>\n",
       "      <td>₹ 30.6L</td>\n",
       "      <td>₹ 25.0L</td>\n",
       "      <td>₹ 36.0L</td>\n",
       "      <td>(based on 15</td>\n",
       "    </tr>\n",
       "    <tr>\n",
       "      <th>5</th>\n",
       "      <td>Walmart\\nData Scientist Salary</td>\n",
       "      <td>12</td>\n",
       "      <td>₹ 30.6L</td>\n",
       "      <td>₹ 25.0L</td>\n",
       "      <td>₹ 36.0L</td>\n",
       "      <td>(based on 15</td>\n",
       "    </tr>\n",
       "    <tr>\n",
       "      <th>6</th>\n",
       "      <td>Walmart\\nData Scientist Salary</td>\n",
       "      <td>12</td>\n",
       "      <td>₹ 30.6L</td>\n",
       "      <td>₹ 25.0L</td>\n",
       "      <td>₹ 36.0L</td>\n",
       "      <td>(based on 15</td>\n",
       "    </tr>\n",
       "    <tr>\n",
       "      <th>7</th>\n",
       "      <td>Walmart\\nData Scientist Salary</td>\n",
       "      <td>12</td>\n",
       "      <td>₹ 30.6L</td>\n",
       "      <td>₹ 25.0L</td>\n",
       "      <td>₹ 36.0L</td>\n",
       "      <td>(based on 15</td>\n",
       "    </tr>\n",
       "    <tr>\n",
       "      <th>8</th>\n",
       "      <td>Walmart\\nData Scientist Salary</td>\n",
       "      <td>12</td>\n",
       "      <td>₹ 30.6L</td>\n",
       "      <td>₹ 25.0L</td>\n",
       "      <td>₹ 36.0L</td>\n",
       "      <td>(based on 15</td>\n",
       "    </tr>\n",
       "    <tr>\n",
       "      <th>9</th>\n",
       "      <td>Walmart\\nData Scientist Salary</td>\n",
       "      <td>12</td>\n",
       "      <td>₹ 30.6L</td>\n",
       "      <td>₹ 25.0L</td>\n",
       "      <td>₹ 36.0L</td>\n",
       "      <td>(based on 15</td>\n",
       "    </tr>\n",
       "    <tr>\n",
       "      <th>10</th>\n",
       "      <td>Walmart\\nData Scientist Salary</td>\n",
       "      <td>12</td>\n",
       "      <td>₹ 30.6L</td>\n",
       "      <td>₹ 25.0L</td>\n",
       "      <td>₹ 36.0L</td>\n",
       "      <td>(based on 15</td>\n",
       "    </tr>\n",
       "  </tbody>\n",
       "</table>\n",
       "</div>"
      ],
      "text/plain": [
       "                           Company Total Salary Record Average Salary  \\\n",
       "1   Walmart\\nData Scientist Salary                  12        ₹ 30.6L   \n",
       "2   Walmart\\nData Scientist Salary                  12        ₹ 30.6L   \n",
       "3   Walmart\\nData Scientist Salary                  12        ₹ 30.6L   \n",
       "4   Walmart\\nData Scientist Salary                  12        ₹ 30.6L   \n",
       "5   Walmart\\nData Scientist Salary                  12        ₹ 30.6L   \n",
       "6   Walmart\\nData Scientist Salary                  12        ₹ 30.6L   \n",
       "7   Walmart\\nData Scientist Salary                  12        ₹ 30.6L   \n",
       "8   Walmart\\nData Scientist Salary                  12        ₹ 30.6L   \n",
       "9   Walmart\\nData Scientist Salary                  12        ₹ 30.6L   \n",
       "10  Walmart\\nData Scientist Salary                  12        ₹ 30.6L   \n",
       "\n",
       "   Minimum Salary Maximum Salary    Experience  \n",
       "1         ₹ 25.0L        ₹ 36.0L  (based on 15  \n",
       "2         ₹ 25.0L        ₹ 36.0L  (based on 15  \n",
       "3         ₹ 25.0L        ₹ 36.0L  (based on 15  \n",
       "4         ₹ 25.0L        ₹ 36.0L  (based on 15  \n",
       "5         ₹ 25.0L        ₹ 36.0L  (based on 15  \n",
       "6         ₹ 25.0L        ₹ 36.0L  (based on 15  \n",
       "7         ₹ 25.0L        ₹ 36.0L  (based on 15  \n",
       "8         ₹ 25.0L        ₹ 36.0L  (based on 15  \n",
       "9         ₹ 25.0L        ₹ 36.0L  (based on 15  \n",
       "10        ₹ 25.0L        ₹ 36.0L  (based on 15  "
      ]
     },
     "execution_count": 376,
     "metadata": {},
     "output_type": "execute_result"
    }
   ],
   "source": [
    "pd.set_option(\"display.max_rows\", None, \"display.max_columns\", None)\n",
    "df8 = pd.DataFrame({'Company':company, 'Total Salary Record' : total_sal, 'Average Salary' : avg_sal, 'Minimum Salary' : min_sal, 'Maximum Salary' : max_sal, 'Experience' : experience}, index=sr_no)\n",
    "df8"
   ]
  },
  {
   "cell_type": "code",
   "execution_count": null,
   "id": "9f56eb56",
   "metadata": {},
   "outputs": [],
   "source": []
  },
  {
   "cell_type": "code",
   "execution_count": null,
   "id": "e6dbf2b4",
   "metadata": {},
   "outputs": [],
   "source": []
  },
  {
   "cell_type": "code",
   "execution_count": null,
   "id": "00c146e6",
   "metadata": {},
   "outputs": [],
   "source": []
  }
 ],
 "metadata": {
  "kernelspec": {
   "display_name": "Python 3 (ipykernel)",
   "language": "python",
   "name": "python3"
  },
  "language_info": {
   "codemirror_mode": {
    "name": "ipython",
    "version": 3
   },
   "file_extension": ".py",
   "mimetype": "text/x-python",
   "name": "python",
   "nbconvert_exporter": "python",
   "pygments_lexer": "ipython3",
   "version": "3.9.7"
  }
 },
 "nbformat": 4,
 "nbformat_minor": 5
}
