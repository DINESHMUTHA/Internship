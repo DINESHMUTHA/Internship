{
 "cells": [
  {
   "cell_type": "code",
   "execution_count": 1,
   "id": "14714f38",
   "metadata": {},
   "outputs": [
    {
     "name": "stdout",
     "output_type": "stream",
     "text": [
      "character count is : \n",
      "{'P': 1, 'a': 1, 'l': 1, 'i': 2, 'n': 1, 'd': 3, 'r': 4, 'o': 2, 'm': 1, 'e': 4, ' ': 3, 's': 2, 'w': 1, 'v': 1}\n"
     ]
    }
   ],
   "source": [
    "input_str = 'Palindrome is word reversed'\n",
    "frequency = {}\n",
    "\n",
    "for char in input_str:\n",
    "    if char in frequency:\n",
    "        frequency [char] += 1\n",
    "    else :\n",
    "        frequency [char] = 1\n",
    "print ('character count is : \\n'+ str(frequency)) "
   ]
  }
 ],
 "metadata": {
  "kernelspec": {
   "display_name": "Python 3 (ipykernel)",
   "language": "python",
   "name": "python3"
  },
  "language_info": {
   "codemirror_mode": {
    "name": "ipython",
    "version": 3
   },
   "file_extension": ".py",
   "mimetype": "text/x-python",
   "name": "python",
   "nbconvert_exporter": "python",
   "pygments_lexer": "ipython3",
   "version": "3.9.7"
  }
 },
 "nbformat": 4,
 "nbformat_minor": 5
}
