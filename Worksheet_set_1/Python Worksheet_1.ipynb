{
 "cells": [
  {
   "cell_type": "code",
   "execution_count": 1,
   "id": "76ddd82c",
   "metadata": {},
   "outputs": [
    {
     "name": "stdout",
     "output_type": "stream",
     "text": [
      "factorial of 8 is\n"
     ]
    },
    {
     "data": {
      "text/plain": [
       "40320"
      ]
     },
     "execution_count": 1,
     "metadata": {},
     "output_type": "execute_result"
    }
   ],
   "source": [
    "def factorial(n):\n",
    "    return 1 if (n==1 or n==0) else n*factorial(n-1);\n",
    "num=8;\n",
    "print('factorial of', num, 'is')\n",
    "factorial(num)\n"
   ]
  },
  {
   "cell_type": "code",
   "execution_count": 9,
   "id": "db8eafe2",
   "metadata": {},
   "outputs": [
    {
     "name": "stdout",
     "output_type": "stream",
     "text": [
      "Enter any number :5\n",
      "5 this  is prime number\n",
      "5 this  is prime number\n",
      "5 this  is prime number\n"
     ]
    }
   ],
   "source": [
    "#check whether number is prime or composite\n",
    "x = int(input('Enter any number :'))\n",
    "if (x==0 or x==1):\n",
    "    print (x, 'it is neither prime nor composite')\n",
    "else:\n",
    "    for i in range(2,x):\n",
    "        if (x % i == 0):\n",
    "            print(x, \"this is composite number\")\n",
    "            break\n",
    "        else:\n",
    "            print(x, \"this  is prime number\")"
   ]
  },
  {
   "cell_type": "code",
   "execution_count": 3,
   "id": "21bc098b",
   "metadata": {},
   "outputs": [
    {
     "name": "stdout",
     "output_type": "stream",
     "text": [
      "Enter a string : madam\n",
      "This is a palindrome\n"
     ]
    }
   ],
   "source": [
    "#check whether the string is a Palindrome(word reversed is same as normal)\n",
    "str = input('Enter a string : ')\n",
    "str_rev = reversed (str)\n",
    "if list(str) == list(str_rev):\n",
    "    print ('This is a palindrome')\n",
    "else :\n",
    "    print ('This is not a palindrome')"
   ]
  },
  {
   "cell_type": "code",
   "execution_count": 18,
   "id": "09746d58",
   "metadata": {},
   "outputs": [
    {
     "name": "stdout",
     "output_type": "stream",
     "text": [
      "enter breadth : 10\n",
      "enter height : 10\n",
      "Hypotenuse = 14.142135623730951\n"
     ]
    }
   ],
   "source": [
    "import math\n",
    "import pandas as pd\n",
    "import numpy as np\n",
    "\n",
    "a = float(input('enter breadth : '))\n",
    "b = float(input('enter height : '))\n",
    "hyp = math.sqrt((a**2 + b**2))\n",
    "\n",
    "print('Hypotenuse =' , hyp)"
   ]
  },
  {
   "cell_type": "code",
   "execution_count": 25,
   "id": "368c0800",
   "metadata": {},
   "outputs": [
    {
     "data": {
      "text/plain": [
       "6"
      ]
     },
     "execution_count": 25,
     "metadata": {},
     "output_type": "execute_result"
    }
   ],
   "source": [
    "6|2"
   ]
  }
 ],
 "metadata": {
  "kernelspec": {
   "display_name": "Python 3 (ipykernel)",
   "language": "python",
   "name": "python3"
  },
  "language_info": {
   "codemirror_mode": {
    "name": "ipython",
    "version": 3
   },
   "file_extension": ".py",
   "mimetype": "text/x-python",
   "name": "python",
   "nbconvert_exporter": "python",
   "pygments_lexer": "ipython3",
   "version": "3.9.7"
  }
 },
 "nbformat": 4,
 "nbformat_minor": 5
}
