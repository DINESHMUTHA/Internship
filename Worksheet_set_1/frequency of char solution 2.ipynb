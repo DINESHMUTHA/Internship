{
 "cells": [
  {
   "cell_type": "code",
   "execution_count": 1,
   "id": "69cc4f89",
   "metadata": {},
   "outputs": [
    {
     "name": "stdout",
     "output_type": "stream",
     "text": [
      "freq of characters is as below: \n",
      "{' ': 4, 'm': 1, 'r': 4, 'd': 3, 'a': 1, 'i': 2, 'v': 1, 'e': 4, 'o': 2, 's': 2, 'p': 1, 'l': 1, 'n': 1, 'w': 1}\n"
     ]
    }
   ],
   "source": [
    "input_strg = ' palindrome is word reversed'\n",
    "\n",
    "frequency = {i : input_strg.count(i) for i in set (input_strg)}\n",
    "\n",
    "print('freq of characters is as below: \\n' + str (frequency))\n"
   ]
  }
 ],
 "metadata": {
  "kernelspec": {
   "display_name": "Python 3 (ipykernel)",
   "language": "python",
   "name": "python3"
  },
  "language_info": {
   "codemirror_mode": {
    "name": "ipython",
    "version": 3
   },
   "file_extension": ".py",
   "mimetype": "text/x-python",
   "name": "python",
   "nbconvert_exporter": "python",
   "pygments_lexer": "ipython3",
   "version": "3.9.7"
  }
 },
 "nbformat": 4,
 "nbformat_minor": 5
}
